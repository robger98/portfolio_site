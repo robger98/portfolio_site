{
 "cells": [
  {
   "cell_type": "markdown",
   "metadata": {},
   "source": [
    "# Crusader King III Man-at-Arms analysis\n",
    "\n",
    "### About Crusader Kings\n",
    "\n",
    "I am a big fan of optimization. This extends into many aspects of my life, including recreation. Because of this, I am big fan of min-maxing in video games, and one of my favorites is a game called [Crusader Kings III](https://store.steampowered.com/app/1158310/Crusader_Kings_III/).\n",
    "\n",
    "In CK3 you control a dynasty throughout the Middle Ages, playing as your ruler until they die, and then continuing as their heir. There is no real goal, besides making sure you always have an heir. Despite not having an explicit goal, generally you want a strong military to support both the defense of your realm and the conquest of others. \n",
    "\n",
    "### Military Overview\n",
    "In CK3 there are two main types of military, levies and Man-at-Arms (MaA). Levies are essentially peasants drafted to fight, whereas MaA are trained soldiers that cost gold to both recruit and maintain, even when unraised. Basically, levies are cannon fodder and MaAs are what win you battles. There are also seige MaA, but they arent used in battle and therefore out of the scope of this analysis.\n",
    "\n",
    "There are 6 main types of damaging MaA,which are:\n",
    "- Light Infantry\n",
    "- Heavy Infantry\n",
    "- Pikemen\n",
    "- Light Horsemen\n",
    "- Heavy Horsemen\n",
    "- Archers\n",
    "  \n",
    "each with their own strengths and weaknesses. There is a countering system ( Light Infantry > Heavy Infantry > Pikemen > Horsemen > Archer > Light Infantry) but countering becomes less effective as the number of one type of unit increases (i.e. 100 archers effectively counter 100 light infantry, but 100 archers fail to counter 1,000 light infantry.) This drop-off in countering effectiveness means when facing the game's AI you can effectively build only one type of unit and be safe from countering.\n",
    "\n",
    "Each MaA also potentially has terrain bonuses or weaknesses (ex. horsemen generally perform worse in mountainous terrain). This generally is only important if your domain is located in an area that is predominantly one type of terrain. Otherwise, general performance is more important.\n",
    "\n",
    "Each MaA has a unit size, which is 100 soldiers per unit for all but a few types of MaA (Heavy Calavry, Elephant Cavalry, and a few other outliers).\n",
    "\n",
    "Finally, and most importantly, each MaA has 4 battle stats and a cost and upkeep:\n",
    "- **Damage**: How much damage a soldier deals during the battle phase\n",
    "- **Toughness**: How much damage a soldier can take before dying/retreating\n",
    "- **Pursuit**: How much damage a soldier deals against retreating enemies (retreat phase)\n",
    "- **Screen**: How much damage a soldier can block while retreating (retreat phase)\n",
    "- **Cost**: How much gold it takes to train one unit of the MaA\n",
    "- **Upkeep**: How much gold it takes to maintain the unit (raised and unraised)\n",
    "\n",
    "Each MaA has different values for each of these stats, and these are what make the real difference in a battle.\n",
    "\n",
    "### The Problem \n",
    "\n",
    "There are 38 MaAs that are tied to different cultural traditions in the game. The goal of this analysis is to figure out which is the best, to guide the player in wisely choosing these traditions to grant access to the best MaA.\n"
   ]
  },
  {
   "cell_type": "markdown",
   "metadata": {},
   "source": [
    "## Getting started\n",
    "\n",
    "First we need to get the data for all the MaAs we are interested in comparing. This data can be conveniently found on the [CK3 wiki](https://ck3.paradoxwikis.com/Army#Traditional). Let's grab the data using pandas. We use selenium since the webpage will throw errors with javascript disabled."
   ]
  },
  {
   "cell_type": "code",
   "execution_count": 102,
   "metadata": {},
   "outputs": [],
   "source": [
    "import time\n",
    "from io import StringIO\n",
    "from selenium import webdriver\n",
    "from selenium.webdriver.chrome.options import Options\n",
    "import pandas as pd\n",
    "from IPython.display import display, HTML\n",
    "import rich\n",
    "\n",
    "# Display helper function to hide index\n",
    "def show_df(df):\n",
    "    display(HTML(df.to_html(index=False)))\n",
    "\n",
    "# Get dataframe from the webpage\n",
    "options = Options()\n",
    "driver = webdriver.Chrome(options=options)\n",
    "url = \"https://ck3.paradoxwikis.com/Army\"\n",
    "driver.get(url)\n",
    "html = driver.page_source\n",
    "driver.quit()"
   ]
  },
  {
   "cell_type": "code",
   "execution_count": 103,
   "metadata": {},
   "outputs": [
    {
     "data": {
      "text/html": [
       "<table border=\"1\" class=\"dataframe\">\n",
       "  <thead>\n",
       "    <tr style=\"text-align: right;\">\n",
       "      <th>Regiment</th>\n",
       "      <th>Type</th>\n",
       "      <th>Cost</th>\n",
       "      <th>Raised maintenance</th>\n",
       "      <th>Provisions used</th>\n",
       "      <th>Unnamed: 5</th>\n",
       "      <th>Unnamed: 6</th>\n",
       "      <th>Unnamed: 7</th>\n",
       "      <th>Unnamed: 8</th>\n",
       "      <th>Counters</th>\n",
       "      <th>Favorable terrain</th>\n",
       "      <th>Unfavorable terrain</th>\n",
       "      <th>Tradition</th>\n",
       "      <th>Era</th>\n",
       "    </tr>\n",
       "  </thead>\n",
       "  <tbody>\n",
       "    <tr>\n",
       "      <td>Abudrar</td>\n",
       "      <td>NaN</td>\n",
       "      <td>81.0</td>\n",
       "      <td>0.81</td>\n",
       "      <td>3</td>\n",
       "      <td>20</td>\n",
       "      <td>16</td>\n",
       "      <td>20</td>\n",
       "      <td>10</td>\n",
       "      <td>NaN</td>\n",
       "      <td>NaN</td>\n",
       "      <td>NaN</td>\n",
       "      <td>Mountain Herding</td>\n",
       "      <td>Tribal</td>\n",
       "    </tr>\n",
       "    <tr>\n",
       "      <td>Ayyar</td>\n",
       "      <td>NaN</td>\n",
       "      <td>75.0</td>\n",
       "      <td>1.08</td>\n",
       "      <td>12</td>\n",
       "      <td>35</td>\n",
       "      <td>22</td>\n",
       "      <td>12</td>\n",
       "      <td>0</td>\n",
       "      <td>NaN</td>\n",
       "      <td>NaN</td>\n",
       "      <td>NaN</td>\n",
       "      <td>Futuwaa</td>\n",
       "      <td>Tribal</td>\n",
       "    </tr>\n",
       "    <tr>\n",
       "      <td>Bush Hunters</td>\n",
       "      <td>NaN</td>\n",
       "      <td>55.0</td>\n",
       "      <td>0.66</td>\n",
       "      <td>3</td>\n",
       "      <td>30</td>\n",
       "      <td>12</td>\n",
       "      <td>5</td>\n",
       "      <td>0</td>\n",
       "      <td>NaN</td>\n",
       "      <td>NaN</td>\n",
       "      <td>NaN</td>\n",
       "      <td>Bush Hunting</td>\n",
       "      <td>Tribal</td>\n",
       "    </tr>\n",
       "    <tr>\n",
       "      <td>Druzhina</td>\n",
       "      <td>NaN</td>\n",
       "      <td>117.0</td>\n",
       "      <td>1.56</td>\n",
       "      <td>7</td>\n",
       "      <td>40</td>\n",
       "      <td>30</td>\n",
       "      <td>0</td>\n",
       "      <td>30</td>\n",
       "      <td>NaN</td>\n",
       "      <td>NaN</td>\n",
       "      <td>NaN</td>\n",
       "      <td>Druzhina</td>\n",
       "      <td>Tribal</td>\n",
       "    </tr>\n",
       "    <tr>\n",
       "      <td>Gendarmes</td>\n",
       "      <td>NaN</td>\n",
       "      <td>240.0</td>\n",
       "      <td>2.52</td>\n",
       "      <td>21</td>\n",
       "      <td>125</td>\n",
       "      <td>40</td>\n",
       "      <td>20</td>\n",
       "      <td>10</td>\n",
       "      <td>NaN</td>\n",
       "      <td>NaN</td>\n",
       "      <td>NaN</td>\n",
       "      <td>Chanson de Geste</td>\n",
       "      <td>Late Medieval</td>\n",
       "    </tr>\n",
       "    <tr>\n",
       "      <td>Goedendag Militia</td>\n",
       "      <td>NaN</td>\n",
       "      <td>45.0</td>\n",
       "      <td>0.45</td>\n",
       "      <td>3</td>\n",
       "      <td>13</td>\n",
       "      <td>18</td>\n",
       "      <td>0</td>\n",
       "      <td>16</td>\n",
       "      <td>NaN</td>\n",
       "      <td>NaN</td>\n",
       "      <td>NaN</td>\n",
       "      <td>Polders</td>\n",
       "      <td>Late Medieval</td>\n",
       "    </tr>\n",
       "    <tr>\n",
       "      <td>Guinean Uplanders</td>\n",
       "      <td>NaN</td>\n",
       "      <td>54.0</td>\n",
       "      <td>0.54</td>\n",
       "      <td>3</td>\n",
       "      <td>18</td>\n",
       "      <td>14</td>\n",
       "      <td>0</td>\n",
       "      <td>20</td>\n",
       "      <td>NaN</td>\n",
       "      <td>NaN</td>\n",
       "      <td>NaN</td>\n",
       "      <td>Upland Skirmishing</td>\n",
       "      <td>Tribal</td>\n",
       "    </tr>\n",
       "    <tr>\n",
       "      <td>Horn Warriors</td>\n",
       "      <td>NaN</td>\n",
       "      <td>45.0</td>\n",
       "      <td>0.45</td>\n",
       "      <td>7</td>\n",
       "      <td>12</td>\n",
       "      <td>16</td>\n",
       "      <td>0</td>\n",
       "      <td>20</td>\n",
       "      <td>NaN</td>\n",
       "      <td>NaN</td>\n",
       "      <td>NaN</td>\n",
       "      <td>Mountain Skirmishing</td>\n",
       "      <td>Tribal</td>\n",
       "    </tr>\n",
       "    <tr>\n",
       "      <td>Horse Archers</td>\n",
       "      <td>NaN</td>\n",
       "      <td>135.0</td>\n",
       "      <td>1.35</td>\n",
       "      <td>7</td>\n",
       "      <td>45</td>\n",
       "      <td>20</td>\n",
       "      <td>40</td>\n",
       "      <td>30</td>\n",
       "      <td>NaN</td>\n",
       "      <td>NaN</td>\n",
       "      <td>NaN</td>\n",
       "      <td>Horse Lords</td>\n",
       "      <td>Tribal</td>\n",
       "    </tr>\n",
       "    <tr>\n",
       "      <td>Huscarls</td>\n",
       "      <td>NaN</td>\n",
       "      <td>115.0</td>\n",
       "      <td>1.53</td>\n",
       "      <td>3</td>\n",
       "      <td>40</td>\n",
       "      <td>26</td>\n",
       "      <td>0</td>\n",
       "      <td>24</td>\n",
       "      <td>NaN</td>\n",
       "      <td>NaN</td>\n",
       "      <td>NaN</td>\n",
       "      <td>Hirds / Coastal Warriors</td>\n",
       "      <td>Tribal</td>\n",
       "    </tr>\n",
       "  </tbody>\n",
       "</table>"
      ],
      "text/plain": [
       "<IPython.core.display.HTML object>"
      ]
     },
     "metadata": {},
     "output_type": "display_data"
    }
   ],
   "source": [
    "df_list = pd.read_html(StringIO(html))\n",
    "df = df_list[2] # We want the third table on the page\n",
    "df.style.hide(axis=0)\n",
    "show_df(df[:10])"
   ]
  },
  {
   "cell_type": "markdown",
   "metadata": {},
   "source": [
    "### Cleaning\n",
    "\n",
    "Now that we have the data, we have to clean up a couple of things. First let's add the proper column names."
   ]
  },
  {
   "cell_type": "code",
   "execution_count": 104,
   "metadata": {},
   "outputs": [
    {
     "data": {
      "text/plain": [
       "Index(['Regiment', 'Type', 'Cost', 'Raised maintenance', 'Provisions used',\n",
       "       'Damage', 'Toughness', 'Pursuit', 'Screen', 'Counters',\n",
       "       'Favorable terrain', 'Unfavorable terrain', 'Tradition', 'Era'],\n",
       "      dtype='object')"
      ]
     },
     "execution_count": 104,
     "metadata": {},
     "output_type": "execute_result"
    }
   ],
   "source": [
    "df.rename(columns={\"Unnamed: 5\": \"Damage\", \"Unnamed: 6\" : \"Toughness\", \"Unnamed: 7\" : \"Pursuit\", \"Unnamed: 8\" : \"Screen\"}, inplace=True)\n",
    "df.columns"
   ]
  },
  {
   "cell_type": "markdown",
   "metadata": {},
   "source": [
    "Now let's fix the NaN values. For the purposes of this analysis we do not care about counters, favorable terrain, or unfavorable terrain, so we can drop those columns. However, we need the unit type for the unit size. To do this I will just manually input the unit sizes in the Type column. "
   ]
  },
  {
   "cell_type": "code",
   "execution_count": 105,
   "metadata": {},
   "outputs": [],
   "source": [
    "# drop NaN columns we don't need\n",
    "df.drop(columns=[\"Counters\", \"Favorable terrain\", \"Unfavorable terrain\"], inplace=True)"
   ]
  },
  {
   "cell_type": "code",
   "execution_count": 106,
   "metadata": {},
   "outputs": [
    {
     "data": {
      "text/html": [
       "<table border=\"1\" class=\"dataframe\">\n",
       "  <thead>\n",
       "    <tr style=\"text-align: right;\">\n",
       "      <th>Regiment</th>\n",
       "      <th>Type</th>\n",
       "      <th>Cost</th>\n",
       "      <th>Raised maintenance</th>\n",
       "      <th>Provisions used</th>\n",
       "      <th>Damage</th>\n",
       "      <th>Toughness</th>\n",
       "      <th>Pursuit</th>\n",
       "      <th>Screen</th>\n",
       "      <th>Tradition</th>\n",
       "      <th>Era</th>\n",
       "      <th>Size</th>\n",
       "    </tr>\n",
       "  </thead>\n",
       "  <tbody>\n",
       "    <tr>\n",
       "      <td>Abudrar</td>\n",
       "      <td>light infantry</td>\n",
       "      <td>81.0</td>\n",
       "      <td>0.81</td>\n",
       "      <td>3</td>\n",
       "      <td>20</td>\n",
       "      <td>16</td>\n",
       "      <td>20</td>\n",
       "      <td>10</td>\n",
       "      <td>Mountain Herding</td>\n",
       "      <td>Tribal</td>\n",
       "      <td>100</td>\n",
       "    </tr>\n",
       "    <tr>\n",
       "      <td>Ayyar</td>\n",
       "      <td>heavy infantry</td>\n",
       "      <td>75.0</td>\n",
       "      <td>1.08</td>\n",
       "      <td>12</td>\n",
       "      <td>35</td>\n",
       "      <td>22</td>\n",
       "      <td>12</td>\n",
       "      <td>0</td>\n",
       "      <td>Futuwaa</td>\n",
       "      <td>Tribal</td>\n",
       "      <td>50</td>\n",
       "    </tr>\n",
       "    <tr>\n",
       "      <td>Bush Hunters</td>\n",
       "      <td>archers</td>\n",
       "      <td>55.0</td>\n",
       "      <td>0.66</td>\n",
       "      <td>3</td>\n",
       "      <td>30</td>\n",
       "      <td>12</td>\n",
       "      <td>5</td>\n",
       "      <td>0</td>\n",
       "      <td>Bush Hunting</td>\n",
       "      <td>Tribal</td>\n",
       "      <td>100</td>\n",
       "    </tr>\n",
       "    <tr>\n",
       "      <td>Druzhina</td>\n",
       "      <td>heavy infantry</td>\n",
       "      <td>117.0</td>\n",
       "      <td>1.56</td>\n",
       "      <td>7</td>\n",
       "      <td>40</td>\n",
       "      <td>30</td>\n",
       "      <td>0</td>\n",
       "      <td>30</td>\n",
       "      <td>Druzhina</td>\n",
       "      <td>Tribal</td>\n",
       "      <td>100</td>\n",
       "    </tr>\n",
       "    <tr>\n",
       "      <td>Gendarmes</td>\n",
       "      <td>heavy cavalry</td>\n",
       "      <td>240.0</td>\n",
       "      <td>2.52</td>\n",
       "      <td>21</td>\n",
       "      <td>125</td>\n",
       "      <td>40</td>\n",
       "      <td>20</td>\n",
       "      <td>10</td>\n",
       "      <td>Chanson de Geste</td>\n",
       "      <td>Late Medieval</td>\n",
       "      <td>50</td>\n",
       "    </tr>\n",
       "    <tr>\n",
       "      <td>Goedendag Militia</td>\n",
       "      <td>light infantry</td>\n",
       "      <td>45.0</td>\n",
       "      <td>0.45</td>\n",
       "      <td>3</td>\n",
       "      <td>13</td>\n",
       "      <td>18</td>\n",
       "      <td>0</td>\n",
       "      <td>16</td>\n",
       "      <td>Polders</td>\n",
       "      <td>Late Medieval</td>\n",
       "      <td>100</td>\n",
       "    </tr>\n",
       "    <tr>\n",
       "      <td>Guinean Uplanders</td>\n",
       "      <td>light infantry</td>\n",
       "      <td>54.0</td>\n",
       "      <td>0.54</td>\n",
       "      <td>3</td>\n",
       "      <td>18</td>\n",
       "      <td>14</td>\n",
       "      <td>0</td>\n",
       "      <td>20</td>\n",
       "      <td>Upland Skirmishing</td>\n",
       "      <td>Tribal</td>\n",
       "      <td>100</td>\n",
       "    </tr>\n",
       "    <tr>\n",
       "      <td>Horn Warriors</td>\n",
       "      <td>light infantry</td>\n",
       "      <td>45.0</td>\n",
       "      <td>0.45</td>\n",
       "      <td>7</td>\n",
       "      <td>12</td>\n",
       "      <td>16</td>\n",
       "      <td>0</td>\n",
       "      <td>20</td>\n",
       "      <td>Mountain Skirmishing</td>\n",
       "      <td>Tribal</td>\n",
       "      <td>100</td>\n",
       "    </tr>\n",
       "    <tr>\n",
       "      <td>Horse Archers</td>\n",
       "      <td>horse archers</td>\n",
       "      <td>135.0</td>\n",
       "      <td>1.35</td>\n",
       "      <td>7</td>\n",
       "      <td>45</td>\n",
       "      <td>20</td>\n",
       "      <td>40</td>\n",
       "      <td>30</td>\n",
       "      <td>Horse Lords</td>\n",
       "      <td>Tribal</td>\n",
       "      <td>100</td>\n",
       "    </tr>\n",
       "    <tr>\n",
       "      <td>Huscarls</td>\n",
       "      <td>heavy infantry</td>\n",
       "      <td>115.0</td>\n",
       "      <td>1.53</td>\n",
       "      <td>3</td>\n",
       "      <td>40</td>\n",
       "      <td>26</td>\n",
       "      <td>0</td>\n",
       "      <td>24</td>\n",
       "      <td>Hirds / Coastal Warriors</td>\n",
       "      <td>Tribal</td>\n",
       "      <td>100</td>\n",
       "    </tr>\n",
       "  </tbody>\n",
       "</table>"
      ],
      "text/plain": [
       "<IPython.core.display.HTML object>"
      ]
     },
     "metadata": {},
     "output_type": "display_data"
    }
   ],
   "source": [
    "unit_types = {\n",
    "    \"Abudrar\": 'light infantry',\n",
    "    \"Akritai\": 'heavy infantry',\n",
    "    \"Ayrudzi\": 'light cavalry',\n",
    "    \"Ayyar\": 'heavy infantry',\n",
    "    \"Ballistrai\": 'archers',\n",
    "    \"Bondi\": 'pikemen',\n",
    "    \"Bush Hunters\": 'archers',\n",
    "    \"Conrois\": 'heavy cavalry',\n",
    "    \"Druzhina\": 'heavy infantry',\n",
    "    \"Gendarmes\": 'heavy cavalry',\n",
    "    \"Goedendag Militia\": 'light infantry',\n",
    "    \"Guinean Uplanders\": 'light infantry',\n",
    "    \"Horn Warriors\": 'light infantry',\n",
    "    \"Horse Archers\": 'horse archers',\n",
    "    \"Huscarls\": 'heavy infantry',\n",
    "    \"Kataphraktoi\": 'heavy cavalry',\n",
    "    \"Khandayat\": 'heavy infantry',\n",
    "    \"Konni\": 'light cavalry',\n",
    "    \"Lenkas\": 'heavy infantry',\n",
    "    \"Longbowmen\": 'archers',\n",
    "    \"Metsänvartija\": 'archers',\n",
    "    \"Monaspa\": 'heavy cavalry',\n",
    "    \"Mountaineers\": 'heavy infantry',\n",
    "    \"Mubarizun\": 'heavy infantry',\n",
    "    \"Mulathanūm\": 'light cavalry',\n",
    "    \"Nile Archers\": 'archers',\n",
    "    \"Palace Guards\": 'heavy infantry',\n",
    "    \"Picchieri\": 'pikemen',\n",
    "    \"Sarawit\": 'heavy infantry',\n",
    "    \"Schiltron\": 'pikemen',\n",
    "    \"Shomer\": 'light infantry',\n",
    "    \"Skoutatoi\": 'pikemen',\n",
    "    \"Tarkhans\": 'heavy cavalry',\n",
    "    \"Tawashi\": 'light cavalry',\n",
    "    \"Varangian Veterans\": 'heavy infantry',\n",
    "    \"Vigmen\": 'archers',\n",
    "    \"Zbrojnosh\": 'heavy infantry',\n",
    "    \"Zupin Spearmen\": 'pikemen'\n",
    "}\n",
    "\n",
    "unit_sizes = {\n",
    "    \"Abudrar\": 100,\n",
    "    \"Akritai\": 100,\n",
    "    \"Ayrudzi\": 50,\n",
    "    \"Ayyar\": 50,\n",
    "    \"Ballistrai\": 50,\n",
    "    \"Bondi\": 100,\n",
    "    \"Bush Hunters\": 100,\n",
    "    \"Conrois\": 50,\n",
    "    \"Druzhina\": 100,\n",
    "    \"Gendarmes\": 50,\n",
    "    \"Goedendag Militia\": 100,\n",
    "    \"Guinean Uplanders\": 100,\n",
    "    \"Horn Warriors\": 100,\n",
    "    \"Horse Archers\": 100,\n",
    "    \"Huscarls\": 100,\n",
    "    \"Kataphraktoi\": 50,\n",
    "    \"Khandayat\": 100,\n",
    "    \"Konni\": 100,\n",
    "    \"Lenkas\": 100,\n",
    "    \"Longbowmen\": 100,\n",
    "    \"Metsänvartija\": 100,\n",
    "    \"Monaspa\": 50,\n",
    "    \"Mountaineers\": 100,\n",
    "    \"Mubarizun\": 100,\n",
    "    \"Mulathanūm\": 100,\n",
    "    \"Nile Archers\": 100,\n",
    "    \"Palace Guards\": 100,\n",
    "    \"Picchieri\": 100,\n",
    "    \"Sarawit\": 100,\n",
    "    \"Schiltron\": 100,\n",
    "    \"Shomer\": 100,\n",
    "    \"Skoutatoi\": 100,\n",
    "    \"Tarkhans\": 50,\n",
    "    \"Tawashi\": 100,\n",
    "    \"Varangian Veterans\": 100,\n",
    "    \"Vigmen\": 100,\n",
    "    \"Zbrojnosh\": 100,\n",
    "    \"Zupin Spearmen\": 100\n",
    "}\n",
    "\n",
    "df['Type'] = df['Regiment'].map(unit_types)\n",
    "df['Size'] = df['Regiment'].map(unit_sizes)\n",
    "show_df(df[:10])"
   ]
  },
  {
   "cell_type": "markdown",
   "metadata": {},
   "source": [
    "## Analysis\n",
    "\n",
    "Now that the data clean we can get to the analysis. Firstly, let's look at what the most effective MaA is for winning battles with no consideration for maintenance or what happens in the retreat phase. There are a few things we must first note:\n",
    "\n",
    "- Damage: During a battle, there are several rounds until one side is entirely routed. During each of these round, 1 soldier does 0.03 damage per point of Damage stat.\n",
    "- Toughness: Each point allows for a soldier to take 1 total damage before routing.\n",
    "- Combat Width: An extra consideration is something called combat width, computed with the equation (Enemy units + Ally units) * (0.5 * Terrain Width). This gives an advantage to smaller unit sizes in a head to head. For the purposes of this analysis we will assume the terrain width is 1.\n",
    "\n",
    "These will come in handy later, but initially let's just look at damage * toughness * unit size\n",
    "\n",
    "#### Era considerations\n",
    "\n",
    "Since some MaAs only become available much later into the game, they have zero utility for most of a play-through. Because of this I will limit the comparisons to only tribal era MaAs, which are always available to be recruited."
   ]
  },
  {
   "cell_type": "code",
   "execution_count": 107,
   "metadata": {},
   "outputs": [
    {
     "data": {
      "text/plain": [
       "Era\n",
       "Tribal    33\n",
       "Name: count, dtype: int64"
      ]
     },
     "execution_count": 107,
     "metadata": {},
     "output_type": "execute_result"
    }
   ],
   "source": [
    "df = df[df.Era == 'Tribal'].copy()\n",
    "df['Era'].value_counts()"
   ]
  },
  {
   "cell_type": "markdown",
   "metadata": {},
   "source": [
    "#### Damage x Toughness x Size"
   ]
  },
  {
   "cell_type": "code",
   "execution_count": 108,
   "metadata": {},
   "outputs": [
    {
     "data": {
      "text/html": [
       "<table border=\"1\" class=\"dataframe\">\n",
       "  <thead>\n",
       "    <tr style=\"text-align: right;\">\n",
       "      <th>Regiment</th>\n",
       "      <th>Type</th>\n",
       "      <th>d*t*s</th>\n",
       "    </tr>\n",
       "  </thead>\n",
       "  <tbody>\n",
       "    <tr>\n",
       "      <td>Kataphraktoi</td>\n",
       "      <td>heavy cavalry</td>\n",
       "      <td>210000</td>\n",
       "    </tr>\n",
       "    <tr>\n",
       "      <td>Tarkhans</td>\n",
       "      <td>heavy cavalry</td>\n",
       "      <td>165000</td>\n",
       "    </tr>\n",
       "    <tr>\n",
       "      <td>Monaspa</td>\n",
       "      <td>heavy cavalry</td>\n",
       "      <td>165000</td>\n",
       "    </tr>\n",
       "    <tr>\n",
       "      <td>Varangian Veterans</td>\n",
       "      <td>heavy infantry</td>\n",
       "      <td>135000</td>\n",
       "    </tr>\n",
       "    <tr>\n",
       "      <td>Conrois</td>\n",
       "      <td>heavy cavalry</td>\n",
       "      <td>125000</td>\n",
       "    </tr>\n",
       "    <tr>\n",
       "      <td>Druzhina</td>\n",
       "      <td>heavy infantry</td>\n",
       "      <td>120000</td>\n",
       "    </tr>\n",
       "    <tr>\n",
       "      <td>Mubarizun</td>\n",
       "      <td>heavy infantry</td>\n",
       "      <td>112500</td>\n",
       "    </tr>\n",
       "    <tr>\n",
       "      <td>Mountaineers</td>\n",
       "      <td>heavy infantry</td>\n",
       "      <td>104000</td>\n",
       "    </tr>\n",
       "    <tr>\n",
       "      <td>Huscarls</td>\n",
       "      <td>heavy infantry</td>\n",
       "      <td>104000</td>\n",
       "    </tr>\n",
       "    <tr>\n",
       "      <td>Lenkas</td>\n",
       "      <td>heavy infantry</td>\n",
       "      <td>92400</td>\n",
       "    </tr>\n",
       "  </tbody>\n",
       "</table>"
      ],
      "text/plain": [
       "<IPython.core.display.HTML object>"
      ]
     },
     "metadata": {},
     "output_type": "display_data"
    }
   ],
   "source": [
    "df['d*t*s'] = df['Damage'] * df['Toughness'] * df['Size']\n",
    "df.sort_values(by='d*t*s', ascending=False, inplace=True)\n",
    "\n",
    "show_df(df.loc[:,['Regiment', 'Type', 'd*t*s']][:10])"
   ]
  },
  {
   "cell_type": "markdown",
   "metadata": {},
   "source": [
    "Well, there's the top 10, but let's see if we can get a better sense of the distribution."
   ]
  },
  {
   "cell_type": "code",
   "execution_count": 109,
   "metadata": {},
   "outputs": [
    {
     "data": {
      "application/vnd.plotly.v1+json": {
       "config": {
        "plotlyServerURL": "https://plot.ly"
       },
       "data": [
        {
         "alignmentgroup": "True",
         "boxpoints": "all",
         "customdata": [
          [
           "heavy cavalry",
           50
          ],
          [
           "heavy cavalry",
           50
          ],
          [
           "heavy cavalry",
           50
          ],
          [
           "heavy cavalry",
           50
          ]
         ],
         "fillcolor": "rgba(255,255,255,0)",
         "hoveron": "points",
         "hovertemplate": "<b>%{hovertext}</b><br><br>Type=%{customdata[0]}<br>Damage x Toughness x Size=%{y}<br>Size=%{customdata[1]}<extra></extra>",
         "hovertext": [
          "Kataphraktoi",
          "Tarkhans",
          "Monaspa",
          "Conrois"
         ],
         "legendgroup": "heavy cavalry",
         "line": {
          "color": "rgba(255,255,255,0)"
         },
         "marker": {
          "color": "#636efa"
         },
         "name": "heavy cavalry",
         "offsetgroup": "heavy cavalry",
         "orientation": "v",
         "pointpos": 0,
         "showlegend": true,
         "type": "box",
         "x0": " ",
         "xaxis": "x",
         "y": {
          "bdata": "UDQDAIiEAgCIhAIASOgBAA==",
          "dtype": "i4"
         },
         "y0": " ",
         "yaxis": "y"
        },
        {
         "alignmentgroup": "True",
         "boxpoints": "all",
         "customdata": [
          [
           "heavy infantry",
           100
          ],
          [
           "heavy infantry",
           100
          ],
          [
           "heavy infantry",
           100
          ],
          [
           "heavy infantry",
           100
          ],
          [
           "heavy infantry",
           100
          ],
          [
           "heavy infantry",
           100
          ],
          [
           "heavy infantry",
           100
          ],
          [
           "heavy infantry",
           100
          ],
          [
           "heavy infantry",
           100
          ],
          [
           "heavy infantry",
           50
          ],
          [
           "heavy infantry",
           100
          ]
         ],
         "fillcolor": "rgba(255,255,255,0)",
         "hoveron": "points",
         "hovertemplate": "<b>%{hovertext}</b><br><br>Type=%{customdata[0]}<br>Damage x Toughness x Size=%{y}<br>Size=%{customdata[1]}<extra></extra>",
         "hovertext": [
          "Varangian Veterans",
          "Druzhina",
          "Mubarizun",
          "Mountaineers",
          "Huscarls",
          "Lenkas",
          "Khandayat",
          "Palace Guards",
          "Zbrojnosh",
          "Ayyar",
          "Akritai"
         ],
         "legendgroup": "heavy infantry",
         "line": {
          "color": "rgba(255,255,255,0)"
         },
         "marker": {
          "color": "#EF553B"
         },
         "name": "heavy infantry",
         "offsetgroup": "heavy infantry",
         "orientation": "v",
         "pointpos": 0,
         "showlegend": true,
         "type": "box",
         "x0": " ",
         "xaxis": "x",
         "y": {
          "bdata": "WA8CAMDUAQB0twEAQJYBAECWAQDwaAEA8GgBAEBkAQCgCQEAZJYAALA2AAA=",
          "dtype": "i4"
         },
         "y0": " ",
         "yaxis": "y"
        },
        {
         "alignmentgroup": "True",
         "boxpoints": "all",
         "customdata": [
          [
           "horse archers",
           100
          ]
         ],
         "fillcolor": "rgba(255,255,255,0)",
         "hoveron": "points",
         "hovertemplate": "<b>%{hovertext}</b><br><br>Type=%{customdata[0]}<br>Damage x Toughness x Size=%{y}<br>Size=%{customdata[1]}<extra></extra>",
         "hovertext": [
          "Horse Archers"
         ],
         "legendgroup": "horse archers",
         "line": {
          "color": "rgba(255,255,255,0)"
         },
         "marker": {
          "color": "#00cc96"
         },
         "name": "horse archers",
         "offsetgroup": "horse archers",
         "orientation": "v",
         "pointpos": 0,
         "showlegend": true,
         "type": "box",
         "x0": " ",
         "xaxis": "x",
         "y": {
          "bdata": "kF8BAA==",
          "dtype": "i4"
         },
         "y0": " ",
         "yaxis": "y"
        },
        {
         "alignmentgroup": "True",
         "boxpoints": "all",
         "customdata": [
          [
           "light cavalry",
           50
          ],
          [
           "light cavalry",
           100
          ],
          [
           "light cavalry",
           100
          ],
          [
           "light cavalry",
           100
          ]
         ],
         "fillcolor": "rgba(255,255,255,0)",
         "hoveron": "points",
         "hovertemplate": "<b>%{hovertext}</b><br><br>Type=%{customdata[0]}<br>Damage x Toughness x Size=%{y}<br>Size=%{customdata[1]}<extra></extra>",
         "hovertext": [
          "Ayrudzi",
          "Konni",
          "Tawashi",
          "Mulathanūm"
         ],
         "legendgroup": "light cavalry",
         "line": {
          "color": "rgba(255,255,255,0)"
         },
         "marker": {
          "color": "#ab63fa"
         },
         "name": "light cavalry",
         "offsetgroup": "light cavalry",
         "orientation": "v",
         "pointpos": 0,
         "showlegend": true,
         "type": "box",
         "x0": " ",
         "xaxis": "x",
         "y": {
          "bdata": "+CQBAHySAAB8kgAA6IAAAA==",
          "dtype": "i4"
         },
         "y0": " ",
         "yaxis": "y"
        },
        {
         "alignmentgroup": "True",
         "boxpoints": "all",
         "customdata": [
          [
           "pikemen",
           100
          ],
          [
           "pikemen",
           100
          ],
          [
           "pikemen",
           100
          ]
         ],
         "fillcolor": "rgba(255,255,255,0)",
         "hoveron": "points",
         "hovertemplate": "<b>%{hovertext}</b><br><br>Type=%{customdata[0]}<br>Damage x Toughness x Size=%{y}<br>Size=%{customdata[1]}<extra></extra>",
         "hovertext": [
          "Skoutatoi",
          "Zupin Spearmen",
          "Bondi"
         ],
         "legendgroup": "pikemen",
         "line": {
          "color": "rgba(255,255,255,0)"
         },
         "marker": {
          "color": "#FFA15A"
         },
         "name": "pikemen",
         "offsetgroup": "pikemen",
         "orientation": "v",
         "pointpos": 0,
         "showlegend": true,
         "type": "box",
         "x0": " ",
         "xaxis": "x",
         "y": {
          "bdata": "cN8AAABkAABwYgAA",
          "dtype": "i4"
         },
         "y0": " ",
         "yaxis": "y"
        },
        {
         "alignmentgroup": "True",
         "boxpoints": "all",
         "customdata": [
          [
           "archers",
           100
          ],
          [
           "archers",
           100
          ],
          [
           "archers",
           100
          ],
          [
           "archers",
           100
          ],
          [
           "archers",
           50
          ],
          [
           "archers",
           100
          ]
         ],
         "fillcolor": "rgba(255,255,255,0)",
         "hoveron": "points",
         "hovertemplate": "<b>%{hovertext}</b><br><br>Type=%{customdata[0]}<br>Damage x Toughness x Size=%{y}<br>Size=%{customdata[1]}<extra></extra>",
         "hovertext": [
          "Metsänvartija",
          "Nile Archers",
          "Bush Hunters",
          "Vigmen",
          "Ballistrai",
          "Longbowmen"
         ],
         "legendgroup": "archers",
         "line": {
          "color": "rgba(255,255,255,0)"
         },
         "marker": {
          "color": "#19d3f3"
         },
         "name": "archers",
         "offsetgroup": "archers",
         "orientation": "v",
         "pointpos": 0,
         "showlegend": true,
         "type": "box",
         "x0": " ",
         "xaxis": "x",
         "y": {
          "bdata": "EKQAABCkAACgjAAAoIwAADJLAACAPgAA",
          "dtype": "i4"
         },
         "y0": " ",
         "yaxis": "y"
        },
        {
         "alignmentgroup": "True",
         "boxpoints": "all",
         "customdata": [
          [
           "light infantry",
           100
          ],
          [
           "light infantry",
           100
          ],
          [
           "light infantry",
           100
          ],
          [
           "light infantry",
           100
          ]
         ],
         "fillcolor": "rgba(255,255,255,0)",
         "hoveron": "points",
         "hovertemplate": "<b>%{hovertext}</b><br><br>Type=%{customdata[0]}<br>Damage x Toughness x Size=%{y}<br>Size=%{customdata[1]}<extra></extra>",
         "hovertext": [
          "Abudrar",
          "Guinean Uplanders",
          "Shomer",
          "Horn Warriors"
         ],
         "legendgroup": "light infantry",
         "line": {
          "color": "rgba(255,255,255,0)"
         },
         "marker": {
          "color": "#FF6692"
         },
         "name": "light infantry",
         "offsetgroup": "light infantry",
         "orientation": "v",
         "pointpos": 0,
         "showlegend": true,
         "type": "box",
         "x0": " ",
         "xaxis": "x",
         "y": {
          "bdata": "AH1wYsBdAEs=",
          "dtype": "i2"
         },
         "y0": " ",
         "yaxis": "y"
        }
       ],
       "layout": {
        "boxmode": "group",
        "height": 600,
        "legend": {
         "title": {
          "text": "Type"
         },
         "tracegroupgap": 0
        },
        "template": {
         "data": {
          "bar": [
           {
            "error_x": {
             "color": "#f2f5fa"
            },
            "error_y": {
             "color": "#f2f5fa"
            },
            "marker": {
             "line": {
              "color": "rgb(17,17,17)",
              "width": 0.5
             },
             "pattern": {
              "fillmode": "overlay",
              "size": 10,
              "solidity": 0.2
             }
            },
            "type": "bar"
           }
          ],
          "barpolar": [
           {
            "marker": {
             "line": {
              "color": "rgb(17,17,17)",
              "width": 0.5
             },
             "pattern": {
              "fillmode": "overlay",
              "size": 10,
              "solidity": 0.2
             }
            },
            "type": "barpolar"
           }
          ],
          "carpet": [
           {
            "aaxis": {
             "endlinecolor": "#A2B1C6",
             "gridcolor": "#506784",
             "linecolor": "#506784",
             "minorgridcolor": "#506784",
             "startlinecolor": "#A2B1C6"
            },
            "baxis": {
             "endlinecolor": "#A2B1C6",
             "gridcolor": "#506784",
             "linecolor": "#506784",
             "minorgridcolor": "#506784",
             "startlinecolor": "#A2B1C6"
            },
            "type": "carpet"
           }
          ],
          "choropleth": [
           {
            "colorbar": {
             "outlinewidth": 0,
             "ticks": ""
            },
            "type": "choropleth"
           }
          ],
          "contour": [
           {
            "colorbar": {
             "outlinewidth": 0,
             "ticks": ""
            },
            "colorscale": [
             [
              0,
              "#0d0887"
             ],
             [
              0.1111111111111111,
              "#46039f"
             ],
             [
              0.2222222222222222,
              "#7201a8"
             ],
             [
              0.3333333333333333,
              "#9c179e"
             ],
             [
              0.4444444444444444,
              "#bd3786"
             ],
             [
              0.5555555555555556,
              "#d8576b"
             ],
             [
              0.6666666666666666,
              "#ed7953"
             ],
             [
              0.7777777777777778,
              "#fb9f3a"
             ],
             [
              0.8888888888888888,
              "#fdca26"
             ],
             [
              1,
              "#f0f921"
             ]
            ],
            "type": "contour"
           }
          ],
          "contourcarpet": [
           {
            "colorbar": {
             "outlinewidth": 0,
             "ticks": ""
            },
            "type": "contourcarpet"
           }
          ],
          "heatmap": [
           {
            "colorbar": {
             "outlinewidth": 0,
             "ticks": ""
            },
            "colorscale": [
             [
              0,
              "#0d0887"
             ],
             [
              0.1111111111111111,
              "#46039f"
             ],
             [
              0.2222222222222222,
              "#7201a8"
             ],
             [
              0.3333333333333333,
              "#9c179e"
             ],
             [
              0.4444444444444444,
              "#bd3786"
             ],
             [
              0.5555555555555556,
              "#d8576b"
             ],
             [
              0.6666666666666666,
              "#ed7953"
             ],
             [
              0.7777777777777778,
              "#fb9f3a"
             ],
             [
              0.8888888888888888,
              "#fdca26"
             ],
             [
              1,
              "#f0f921"
             ]
            ],
            "type": "heatmap"
           }
          ],
          "histogram": [
           {
            "marker": {
             "pattern": {
              "fillmode": "overlay",
              "size": 10,
              "solidity": 0.2
             }
            },
            "type": "histogram"
           }
          ],
          "histogram2d": [
           {
            "colorbar": {
             "outlinewidth": 0,
             "ticks": ""
            },
            "colorscale": [
             [
              0,
              "#0d0887"
             ],
             [
              0.1111111111111111,
              "#46039f"
             ],
             [
              0.2222222222222222,
              "#7201a8"
             ],
             [
              0.3333333333333333,
              "#9c179e"
             ],
             [
              0.4444444444444444,
              "#bd3786"
             ],
             [
              0.5555555555555556,
              "#d8576b"
             ],
             [
              0.6666666666666666,
              "#ed7953"
             ],
             [
              0.7777777777777778,
              "#fb9f3a"
             ],
             [
              0.8888888888888888,
              "#fdca26"
             ],
             [
              1,
              "#f0f921"
             ]
            ],
            "type": "histogram2d"
           }
          ],
          "histogram2dcontour": [
           {
            "colorbar": {
             "outlinewidth": 0,
             "ticks": ""
            },
            "colorscale": [
             [
              0,
              "#0d0887"
             ],
             [
              0.1111111111111111,
              "#46039f"
             ],
             [
              0.2222222222222222,
              "#7201a8"
             ],
             [
              0.3333333333333333,
              "#9c179e"
             ],
             [
              0.4444444444444444,
              "#bd3786"
             ],
             [
              0.5555555555555556,
              "#d8576b"
             ],
             [
              0.6666666666666666,
              "#ed7953"
             ],
             [
              0.7777777777777778,
              "#fb9f3a"
             ],
             [
              0.8888888888888888,
              "#fdca26"
             ],
             [
              1,
              "#f0f921"
             ]
            ],
            "type": "histogram2dcontour"
           }
          ],
          "mesh3d": [
           {
            "colorbar": {
             "outlinewidth": 0,
             "ticks": ""
            },
            "type": "mesh3d"
           }
          ],
          "parcoords": [
           {
            "line": {
             "colorbar": {
              "outlinewidth": 0,
              "ticks": ""
             }
            },
            "type": "parcoords"
           }
          ],
          "pie": [
           {
            "automargin": true,
            "type": "pie"
           }
          ],
          "scatter": [
           {
            "marker": {
             "line": {
              "color": "#283442"
             }
            },
            "type": "scatter"
           }
          ],
          "scatter3d": [
           {
            "line": {
             "colorbar": {
              "outlinewidth": 0,
              "ticks": ""
             }
            },
            "marker": {
             "colorbar": {
              "outlinewidth": 0,
              "ticks": ""
             }
            },
            "type": "scatter3d"
           }
          ],
          "scattercarpet": [
           {
            "marker": {
             "colorbar": {
              "outlinewidth": 0,
              "ticks": ""
             }
            },
            "type": "scattercarpet"
           }
          ],
          "scattergeo": [
           {
            "marker": {
             "colorbar": {
              "outlinewidth": 0,
              "ticks": ""
             }
            },
            "type": "scattergeo"
           }
          ],
          "scattergl": [
           {
            "marker": {
             "line": {
              "color": "#283442"
             }
            },
            "type": "scattergl"
           }
          ],
          "scattermap": [
           {
            "marker": {
             "colorbar": {
              "outlinewidth": 0,
              "ticks": ""
             }
            },
            "type": "scattermap"
           }
          ],
          "scattermapbox": [
           {
            "marker": {
             "colorbar": {
              "outlinewidth": 0,
              "ticks": ""
             }
            },
            "type": "scattermapbox"
           }
          ],
          "scatterpolar": [
           {
            "marker": {
             "colorbar": {
              "outlinewidth": 0,
              "ticks": ""
             }
            },
            "type": "scatterpolar"
           }
          ],
          "scatterpolargl": [
           {
            "marker": {
             "colorbar": {
              "outlinewidth": 0,
              "ticks": ""
             }
            },
            "type": "scatterpolargl"
           }
          ],
          "scatterternary": [
           {
            "marker": {
             "colorbar": {
              "outlinewidth": 0,
              "ticks": ""
             }
            },
            "type": "scatterternary"
           }
          ],
          "surface": [
           {
            "colorbar": {
             "outlinewidth": 0,
             "ticks": ""
            },
            "colorscale": [
             [
              0,
              "#0d0887"
             ],
             [
              0.1111111111111111,
              "#46039f"
             ],
             [
              0.2222222222222222,
              "#7201a8"
             ],
             [
              0.3333333333333333,
              "#9c179e"
             ],
             [
              0.4444444444444444,
              "#bd3786"
             ],
             [
              0.5555555555555556,
              "#d8576b"
             ],
             [
              0.6666666666666666,
              "#ed7953"
             ],
             [
              0.7777777777777778,
              "#fb9f3a"
             ],
             [
              0.8888888888888888,
              "#fdca26"
             ],
             [
              1,
              "#f0f921"
             ]
            ],
            "type": "surface"
           }
          ],
          "table": [
           {
            "cells": {
             "fill": {
              "color": "#506784"
             },
             "line": {
              "color": "rgb(17,17,17)"
             }
            },
            "header": {
             "fill": {
              "color": "#2a3f5f"
             },
             "line": {
              "color": "rgb(17,17,17)"
             }
            },
            "type": "table"
           }
          ]
         },
         "layout": {
          "annotationdefaults": {
           "arrowcolor": "#f2f5fa",
           "arrowhead": 0,
           "arrowwidth": 1
          },
          "autotypenumbers": "strict",
          "coloraxis": {
           "colorbar": {
            "outlinewidth": 0,
            "ticks": ""
           }
          },
          "colorscale": {
           "diverging": [
            [
             0,
             "#8e0152"
            ],
            [
             0.1,
             "#c51b7d"
            ],
            [
             0.2,
             "#de77ae"
            ],
            [
             0.3,
             "#f1b6da"
            ],
            [
             0.4,
             "#fde0ef"
            ],
            [
             0.5,
             "#f7f7f7"
            ],
            [
             0.6,
             "#e6f5d0"
            ],
            [
             0.7,
             "#b8e186"
            ],
            [
             0.8,
             "#7fbc41"
            ],
            [
             0.9,
             "#4d9221"
            ],
            [
             1,
             "#276419"
            ]
           ],
           "sequential": [
            [
             0,
             "#0d0887"
            ],
            [
             0.1111111111111111,
             "#46039f"
            ],
            [
             0.2222222222222222,
             "#7201a8"
            ],
            [
             0.3333333333333333,
             "#9c179e"
            ],
            [
             0.4444444444444444,
             "#bd3786"
            ],
            [
             0.5555555555555556,
             "#d8576b"
            ],
            [
             0.6666666666666666,
             "#ed7953"
            ],
            [
             0.7777777777777778,
             "#fb9f3a"
            ],
            [
             0.8888888888888888,
             "#fdca26"
            ],
            [
             1,
             "#f0f921"
            ]
           ],
           "sequentialminus": [
            [
             0,
             "#0d0887"
            ],
            [
             0.1111111111111111,
             "#46039f"
            ],
            [
             0.2222222222222222,
             "#7201a8"
            ],
            [
             0.3333333333333333,
             "#9c179e"
            ],
            [
             0.4444444444444444,
             "#bd3786"
            ],
            [
             0.5555555555555556,
             "#d8576b"
            ],
            [
             0.6666666666666666,
             "#ed7953"
            ],
            [
             0.7777777777777778,
             "#fb9f3a"
            ],
            [
             0.8888888888888888,
             "#fdca26"
            ],
            [
             1,
             "#f0f921"
            ]
           ]
          },
          "colorway": [
           "#636efa",
           "#EF553B",
           "#00cc96",
           "#ab63fa",
           "#FFA15A",
           "#19d3f3",
           "#FF6692",
           "#B6E880",
           "#FF97FF",
           "#FECB52"
          ],
          "font": {
           "color": "#f2f5fa"
          },
          "geo": {
           "bgcolor": "rgb(17,17,17)",
           "lakecolor": "rgb(17,17,17)",
           "landcolor": "rgb(17,17,17)",
           "showlakes": true,
           "showland": true,
           "subunitcolor": "#506784"
          },
          "hoverlabel": {
           "align": "left"
          },
          "hovermode": "closest",
          "mapbox": {
           "style": "dark"
          },
          "paper_bgcolor": "rgb(17,17,17)",
          "plot_bgcolor": "rgb(17,17,17)",
          "polar": {
           "angularaxis": {
            "gridcolor": "#506784",
            "linecolor": "#506784",
            "ticks": ""
           },
           "bgcolor": "rgb(17,17,17)",
           "radialaxis": {
            "gridcolor": "#506784",
            "linecolor": "#506784",
            "ticks": ""
           }
          },
          "scene": {
           "xaxis": {
            "backgroundcolor": "rgb(17,17,17)",
            "gridcolor": "#506784",
            "gridwidth": 2,
            "linecolor": "#506784",
            "showbackground": true,
            "ticks": "",
            "zerolinecolor": "#C8D4E3"
           },
           "yaxis": {
            "backgroundcolor": "rgb(17,17,17)",
            "gridcolor": "#506784",
            "gridwidth": 2,
            "linecolor": "#506784",
            "showbackground": true,
            "ticks": "",
            "zerolinecolor": "#C8D4E3"
           },
           "zaxis": {
            "backgroundcolor": "rgb(17,17,17)",
            "gridcolor": "#506784",
            "gridwidth": 2,
            "linecolor": "#506784",
            "showbackground": true,
            "ticks": "",
            "zerolinecolor": "#C8D4E3"
           }
          },
          "shapedefaults": {
           "line": {
            "color": "#f2f5fa"
           }
          },
          "sliderdefaults": {
           "bgcolor": "#C8D4E3",
           "bordercolor": "rgb(17,17,17)",
           "borderwidth": 1,
           "tickwidth": 0
          },
          "ternary": {
           "aaxis": {
            "gridcolor": "#506784",
            "linecolor": "#506784",
            "ticks": ""
           },
           "baxis": {
            "gridcolor": "#506784",
            "linecolor": "#506784",
            "ticks": ""
           },
           "bgcolor": "rgb(17,17,17)",
           "caxis": {
            "gridcolor": "#506784",
            "linecolor": "#506784",
            "ticks": ""
           }
          },
          "title": {
           "x": 0.05
          },
          "updatemenudefaults": {
           "bgcolor": "#506784",
           "borderwidth": 0
          },
          "xaxis": {
           "automargin": true,
           "gridcolor": "#283442",
           "linecolor": "#506784",
           "ticks": "",
           "title": {
            "standoff": 15
           },
           "zerolinecolor": "#283442",
           "zerolinewidth": 2
          },
          "yaxis": {
           "automargin": true,
           "gridcolor": "#283442",
           "linecolor": "#506784",
           "ticks": "",
           "title": {
            "standoff": 15
           },
           "zerolinecolor": "#283442",
           "zerolinewidth": 2
          }
         }
        },
        "title": {
         "text": "Most Effective MaA in CK3"
        },
        "width": 800,
        "xaxis": {
         "anchor": "y",
         "domain": [
          0,
          1
         ]
        },
        "yaxis": {
         "anchor": "x",
         "domain": [
          0,
          1
         ],
         "title": {
          "text": "Damage x Toughness x Size"
         }
        }
       }
      }
     },
     "metadata": {},
     "output_type": "display_data"
    }
   ],
   "source": [
    "import plotly.express as px\n",
    "from plotly.colors import named_colorscales\n",
    "\n",
    "fig = px.strip(\n",
    "    df, \n",
    "    y=\"d*t*s\", \n",
    "    hover_name='Regiment', \n",
    "    hover_data=['Type', 'Size'], \n",
    "    labels={'d*t*s': 'Damage x Toughness x Size'},\n",
    "    title=\"Most Effective MaA in CK3\", \n",
    "    height=600, \n",
    "    width=800, \n",
    "    template='plotly_dark', \n",
    "    color='Type'\n",
    ")\n",
    "# fig.update_traces(marker_color=\"yellow\")\n",
    "fig.show()"
   ]
  },
  {
   "cell_type": "markdown",
   "metadata": {},
   "source": [
    "We can see that the top contenders are all heavy cavalry, even before taking into account the combat width advantage they have for having a smaller unit size.\n",
    "\n",
    "This shows Kataphraktoi as our top performer by Damage x Toughness x Size.\n",
    "\n",
    "#### Damage x Size vs. Toughness x Size\n",
    "\n",
    "There are some instances, however, where Toughness or Damage may be more or less preferable than the other. For example, if you are running an army with a lot of levies (cannon fodder), toughness is less important since more of the enemy's damage is soaked up by your levies. Conversely, if you are running a Knight heavy army (Knights are special characters, not nameless troops), toughness may be more important to protect your relatively fragile but high damage knights. Let's look at a scatter plot comparing damage and toughness."
   ]
  },
  {
   "cell_type": "code",
   "execution_count": 110,
   "metadata": {},
   "outputs": [
    {
     "data": {
      "application/vnd.plotly.v1+json": {
       "config": {
        "plotlyServerURL": "https://plot.ly"
       },
       "data": [
        {
         "hovertemplate": "<b>%{hovertext}</b><br><br>Type=heavy cavalry<br>Damage x Size=%{x}<br>Toughness x Size=%{y}<extra></extra>",
         "hovertext": [
          "Kataphraktoi",
          "Tarkhans",
          "Monaspa",
          "Conrois"
         ],
         "legendgroup": "heavy cavalry",
         "marker": {
          "color": "#636efa",
          "symbol": "circle"
         },
         "mode": "markers",
         "name": "heavy cavalry",
         "orientation": "v",
         "showlegend": true,
         "type": "scatter",
         "x": {
          "bdata": "cBd8FXwViBM=",
          "dtype": "i2"
         },
         "xaxis": "x",
         "y": {
          "bdata": "1gbcBdwF4gQ=",
          "dtype": "i2"
         },
         "yaxis": "y"
        },
        {
         "hovertemplate": "<b>%{hovertext}</b><br><br>Type=heavy infantry<br>Damage x Size=%{x}<br>Toughness x Size=%{y}<extra></extra>",
         "hovertext": [
          "Varangian Veterans",
          "Druzhina",
          "Mubarizun",
          "Mountaineers",
          "Huscarls",
          "Lenkas",
          "Khandayat",
          "Palace Guards",
          "Zbrojnosh",
          "Ayyar",
          "Akritai"
         ],
         "legendgroup": "heavy infantry",
         "marker": {
          "color": "#EF553B",
          "symbol": "circle"
         },
         "mode": "markers",
         "name": "heavy infantry",
         "orientation": "v",
         "showlegend": true,
         "type": "scatter",
         "x": {
          "bdata": "lBGgD5QRoA+gD2gQaBDYDkgN1gboAw==",
          "dtype": "i2"
         },
         "xaxis": "x",
         "y": {
          "bdata": "uAu4C8QJKAooCpgImAhgCdAHTAR4BQ==",
          "dtype": "i2"
         },
         "yaxis": "y"
        },
        {
         "hovertemplate": "<b>%{hovertext}</b><br><br>Type=horse archers<br>Damage x Size=%{x}<br>Toughness x Size=%{y}<extra></extra>",
         "hovertext": [
          "Horse Archers"
         ],
         "legendgroup": "horse archers",
         "marker": {
          "color": "#00cc96",
          "symbol": "circle"
         },
         "mode": "markers",
         "name": "horse archers",
         "orientation": "v",
         "showlegend": true,
         "type": "scatter",
         "x": {
          "bdata": "lBE=",
          "dtype": "i2"
         },
         "xaxis": "x",
         "y": {
          "bdata": "0Ac=",
          "dtype": "i2"
         },
         "yaxis": "y"
        },
        {
         "hovertemplate": "<b>%{hovertext}</b><br><br>Type=light cavalry<br>Damage x Size=%{x}<br>Toughness x Size=%{y}<extra></extra>",
         "hovertext": [
          "Ayrudzi",
          "Konni",
          "Tawashi",
          "Mulathanūm"
         ],
         "legendgroup": "light cavalry",
         "marker": {
          "color": "#ab63fa",
          "symbol": "circle"
         },
         "mode": "markers",
         "name": "light cavalry",
         "orientation": "v",
         "showlegend": true,
         "type": "scatter",
         "x": {
          "bdata": "xAnECcQJmAg=",
          "dtype": "i2"
         },
         "xaxis": "x",
         "y": {
          "bdata": "3AXcBdwF3AU=",
          "dtype": "i2"
         },
         "yaxis": "y"
        },
        {
         "hovertemplate": "<b>%{hovertext}</b><br><br>Type=pikemen<br>Damage x Size=%{x}<br>Toughness x Size=%{y}<extra></extra>",
         "hovertext": [
          "Skoutatoi",
          "Zupin Spearmen",
          "Bondi"
         ],
         "legendgroup": "pikemen",
         "marker": {
          "color": "#FFA15A",
          "symbol": "circle"
         },
         "mode": "markers",
         "name": "pikemen",
         "orientation": "v",
         "showlegend": true,
         "type": "scatter",
         "x": {
          "bdata": "mAhABngF",
          "dtype": "i2"
         },
         "xaxis": "x",
         "y": {
          "bdata": "KApABggH",
          "dtype": "i2"
         },
         "yaxis": "y"
        },
        {
         "hovertemplate": "<b>%{hovertext}</b><br><br>Type=archers<br>Damage x Size=%{x}<br>Toughness x Size=%{y}<extra></extra>",
         "hovertext": [
          "Metsänvartija",
          "Nile Archers",
          "Bush Hunters",
          "Vigmen",
          "Ballistrai",
          "Longbowmen"
         ],
         "legendgroup": "archers",
         "marker": {
          "color": "#19d3f3",
          "symbol": "circle"
         },
         "mode": "markers",
         "name": "archers",
         "orientation": "v",
         "showlegend": true,
         "type": "scatter",
         "x": {
          "bdata": "uAu4C7gLCAfWBtAH",
          "dtype": "i2"
         },
         "xaxis": "x",
         "y": {
          "bdata": "eAV4BbAE0AcmAiAD",
          "dtype": "i2"
         },
         "yaxis": "y"
        },
        {
         "hovertemplate": "<b>%{hovertext}</b><br><br>Type=light infantry<br>Damage x Size=%{x}<br>Toughness x Size=%{y}<extra></extra>",
         "hovertext": [
          "Abudrar",
          "Guinean Uplanders",
          "Shomer",
          "Horn Warriors"
         ],
         "legendgroup": "light infantry",
         "marker": {
          "color": "#FF6692",
          "symbol": "circle"
         },
         "mode": "markers",
         "name": "light infantry",
         "orientation": "v",
         "showlegend": true,
         "type": "scatter",
         "x": {
          "bdata": "0AcIB+gDsAQ=",
          "dtype": "i2"
         },
         "xaxis": "x",
         "y": {
          "bdata": "QAZ4BWAJQAY=",
          "dtype": "i2"
         },
         "yaxis": "y"
        }
       ],
       "layout": {
        "height": 600,
        "legend": {
         "title": {
          "text": "Type"
         },
         "tracegroupgap": 0
        },
        "shapes": [
         {
          "opacity": 0.5,
          "type": "line",
          "x0": 0,
          "x1": 6600.000000000001,
          "xref": "x",
          "y0": 0,
          "y1": 3300.0000000000005,
          "yref": "y"
         }
        ],
        "template": {
         "data": {
          "bar": [
           {
            "error_x": {
             "color": "#f2f5fa"
            },
            "error_y": {
             "color": "#f2f5fa"
            },
            "marker": {
             "line": {
              "color": "rgb(17,17,17)",
              "width": 0.5
             },
             "pattern": {
              "fillmode": "overlay",
              "size": 10,
              "solidity": 0.2
             }
            },
            "type": "bar"
           }
          ],
          "barpolar": [
           {
            "marker": {
             "line": {
              "color": "rgb(17,17,17)",
              "width": 0.5
             },
             "pattern": {
              "fillmode": "overlay",
              "size": 10,
              "solidity": 0.2
             }
            },
            "type": "barpolar"
           }
          ],
          "carpet": [
           {
            "aaxis": {
             "endlinecolor": "#A2B1C6",
             "gridcolor": "#506784",
             "linecolor": "#506784",
             "minorgridcolor": "#506784",
             "startlinecolor": "#A2B1C6"
            },
            "baxis": {
             "endlinecolor": "#A2B1C6",
             "gridcolor": "#506784",
             "linecolor": "#506784",
             "minorgridcolor": "#506784",
             "startlinecolor": "#A2B1C6"
            },
            "type": "carpet"
           }
          ],
          "choropleth": [
           {
            "colorbar": {
             "outlinewidth": 0,
             "ticks": ""
            },
            "type": "choropleth"
           }
          ],
          "contour": [
           {
            "colorbar": {
             "outlinewidth": 0,
             "ticks": ""
            },
            "colorscale": [
             [
              0,
              "#0d0887"
             ],
             [
              0.1111111111111111,
              "#46039f"
             ],
             [
              0.2222222222222222,
              "#7201a8"
             ],
             [
              0.3333333333333333,
              "#9c179e"
             ],
             [
              0.4444444444444444,
              "#bd3786"
             ],
             [
              0.5555555555555556,
              "#d8576b"
             ],
             [
              0.6666666666666666,
              "#ed7953"
             ],
             [
              0.7777777777777778,
              "#fb9f3a"
             ],
             [
              0.8888888888888888,
              "#fdca26"
             ],
             [
              1,
              "#f0f921"
             ]
            ],
            "type": "contour"
           }
          ],
          "contourcarpet": [
           {
            "colorbar": {
             "outlinewidth": 0,
             "ticks": ""
            },
            "type": "contourcarpet"
           }
          ],
          "heatmap": [
           {
            "colorbar": {
             "outlinewidth": 0,
             "ticks": ""
            },
            "colorscale": [
             [
              0,
              "#0d0887"
             ],
             [
              0.1111111111111111,
              "#46039f"
             ],
             [
              0.2222222222222222,
              "#7201a8"
             ],
             [
              0.3333333333333333,
              "#9c179e"
             ],
             [
              0.4444444444444444,
              "#bd3786"
             ],
             [
              0.5555555555555556,
              "#d8576b"
             ],
             [
              0.6666666666666666,
              "#ed7953"
             ],
             [
              0.7777777777777778,
              "#fb9f3a"
             ],
             [
              0.8888888888888888,
              "#fdca26"
             ],
             [
              1,
              "#f0f921"
             ]
            ],
            "type": "heatmap"
           }
          ],
          "histogram": [
           {
            "marker": {
             "pattern": {
              "fillmode": "overlay",
              "size": 10,
              "solidity": 0.2
             }
            },
            "type": "histogram"
           }
          ],
          "histogram2d": [
           {
            "colorbar": {
             "outlinewidth": 0,
             "ticks": ""
            },
            "colorscale": [
             [
              0,
              "#0d0887"
             ],
             [
              0.1111111111111111,
              "#46039f"
             ],
             [
              0.2222222222222222,
              "#7201a8"
             ],
             [
              0.3333333333333333,
              "#9c179e"
             ],
             [
              0.4444444444444444,
              "#bd3786"
             ],
             [
              0.5555555555555556,
              "#d8576b"
             ],
             [
              0.6666666666666666,
              "#ed7953"
             ],
             [
              0.7777777777777778,
              "#fb9f3a"
             ],
             [
              0.8888888888888888,
              "#fdca26"
             ],
             [
              1,
              "#f0f921"
             ]
            ],
            "type": "histogram2d"
           }
          ],
          "histogram2dcontour": [
           {
            "colorbar": {
             "outlinewidth": 0,
             "ticks": ""
            },
            "colorscale": [
             [
              0,
              "#0d0887"
             ],
             [
              0.1111111111111111,
              "#46039f"
             ],
             [
              0.2222222222222222,
              "#7201a8"
             ],
             [
              0.3333333333333333,
              "#9c179e"
             ],
             [
              0.4444444444444444,
              "#bd3786"
             ],
             [
              0.5555555555555556,
              "#d8576b"
             ],
             [
              0.6666666666666666,
              "#ed7953"
             ],
             [
              0.7777777777777778,
              "#fb9f3a"
             ],
             [
              0.8888888888888888,
              "#fdca26"
             ],
             [
              1,
              "#f0f921"
             ]
            ],
            "type": "histogram2dcontour"
           }
          ],
          "mesh3d": [
           {
            "colorbar": {
             "outlinewidth": 0,
             "ticks": ""
            },
            "type": "mesh3d"
           }
          ],
          "parcoords": [
           {
            "line": {
             "colorbar": {
              "outlinewidth": 0,
              "ticks": ""
             }
            },
            "type": "parcoords"
           }
          ],
          "pie": [
           {
            "automargin": true,
            "type": "pie"
           }
          ],
          "scatter": [
           {
            "marker": {
             "line": {
              "color": "#283442"
             }
            },
            "type": "scatter"
           }
          ],
          "scatter3d": [
           {
            "line": {
             "colorbar": {
              "outlinewidth": 0,
              "ticks": ""
             }
            },
            "marker": {
             "colorbar": {
              "outlinewidth": 0,
              "ticks": ""
             }
            },
            "type": "scatter3d"
           }
          ],
          "scattercarpet": [
           {
            "marker": {
             "colorbar": {
              "outlinewidth": 0,
              "ticks": ""
             }
            },
            "type": "scattercarpet"
           }
          ],
          "scattergeo": [
           {
            "marker": {
             "colorbar": {
              "outlinewidth": 0,
              "ticks": ""
             }
            },
            "type": "scattergeo"
           }
          ],
          "scattergl": [
           {
            "marker": {
             "line": {
              "color": "#283442"
             }
            },
            "type": "scattergl"
           }
          ],
          "scattermap": [
           {
            "marker": {
             "colorbar": {
              "outlinewidth": 0,
              "ticks": ""
             }
            },
            "type": "scattermap"
           }
          ],
          "scattermapbox": [
           {
            "marker": {
             "colorbar": {
              "outlinewidth": 0,
              "ticks": ""
             }
            },
            "type": "scattermapbox"
           }
          ],
          "scatterpolar": [
           {
            "marker": {
             "colorbar": {
              "outlinewidth": 0,
              "ticks": ""
             }
            },
            "type": "scatterpolar"
           }
          ],
          "scatterpolargl": [
           {
            "marker": {
             "colorbar": {
              "outlinewidth": 0,
              "ticks": ""
             }
            },
            "type": "scatterpolargl"
           }
          ],
          "scatterternary": [
           {
            "marker": {
             "colorbar": {
              "outlinewidth": 0,
              "ticks": ""
             }
            },
            "type": "scatterternary"
           }
          ],
          "surface": [
           {
            "colorbar": {
             "outlinewidth": 0,
             "ticks": ""
            },
            "colorscale": [
             [
              0,
              "#0d0887"
             ],
             [
              0.1111111111111111,
              "#46039f"
             ],
             [
              0.2222222222222222,
              "#7201a8"
             ],
             [
              0.3333333333333333,
              "#9c179e"
             ],
             [
              0.4444444444444444,
              "#bd3786"
             ],
             [
              0.5555555555555556,
              "#d8576b"
             ],
             [
              0.6666666666666666,
              "#ed7953"
             ],
             [
              0.7777777777777778,
              "#fb9f3a"
             ],
             [
              0.8888888888888888,
              "#fdca26"
             ],
             [
              1,
              "#f0f921"
             ]
            ],
            "type": "surface"
           }
          ],
          "table": [
           {
            "cells": {
             "fill": {
              "color": "#506784"
             },
             "line": {
              "color": "rgb(17,17,17)"
             }
            },
            "header": {
             "fill": {
              "color": "#2a3f5f"
             },
             "line": {
              "color": "rgb(17,17,17)"
             }
            },
            "type": "table"
           }
          ]
         },
         "layout": {
          "annotationdefaults": {
           "arrowcolor": "#f2f5fa",
           "arrowhead": 0,
           "arrowwidth": 1
          },
          "autotypenumbers": "strict",
          "coloraxis": {
           "colorbar": {
            "outlinewidth": 0,
            "ticks": ""
           }
          },
          "colorscale": {
           "diverging": [
            [
             0,
             "#8e0152"
            ],
            [
             0.1,
             "#c51b7d"
            ],
            [
             0.2,
             "#de77ae"
            ],
            [
             0.3,
             "#f1b6da"
            ],
            [
             0.4,
             "#fde0ef"
            ],
            [
             0.5,
             "#f7f7f7"
            ],
            [
             0.6,
             "#e6f5d0"
            ],
            [
             0.7,
             "#b8e186"
            ],
            [
             0.8,
             "#7fbc41"
            ],
            [
             0.9,
             "#4d9221"
            ],
            [
             1,
             "#276419"
            ]
           ],
           "sequential": [
            [
             0,
             "#0d0887"
            ],
            [
             0.1111111111111111,
             "#46039f"
            ],
            [
             0.2222222222222222,
             "#7201a8"
            ],
            [
             0.3333333333333333,
             "#9c179e"
            ],
            [
             0.4444444444444444,
             "#bd3786"
            ],
            [
             0.5555555555555556,
             "#d8576b"
            ],
            [
             0.6666666666666666,
             "#ed7953"
            ],
            [
             0.7777777777777778,
             "#fb9f3a"
            ],
            [
             0.8888888888888888,
             "#fdca26"
            ],
            [
             1,
             "#f0f921"
            ]
           ],
           "sequentialminus": [
            [
             0,
             "#0d0887"
            ],
            [
             0.1111111111111111,
             "#46039f"
            ],
            [
             0.2222222222222222,
             "#7201a8"
            ],
            [
             0.3333333333333333,
             "#9c179e"
            ],
            [
             0.4444444444444444,
             "#bd3786"
            ],
            [
             0.5555555555555556,
             "#d8576b"
            ],
            [
             0.6666666666666666,
             "#ed7953"
            ],
            [
             0.7777777777777778,
             "#fb9f3a"
            ],
            [
             0.8888888888888888,
             "#fdca26"
            ],
            [
             1,
             "#f0f921"
            ]
           ]
          },
          "colorway": [
           "#636efa",
           "#EF553B",
           "#00cc96",
           "#ab63fa",
           "#FFA15A",
           "#19d3f3",
           "#FF6692",
           "#B6E880",
           "#FF97FF",
           "#FECB52"
          ],
          "font": {
           "color": "#f2f5fa"
          },
          "geo": {
           "bgcolor": "rgb(17,17,17)",
           "lakecolor": "rgb(17,17,17)",
           "landcolor": "rgb(17,17,17)",
           "showlakes": true,
           "showland": true,
           "subunitcolor": "#506784"
          },
          "hoverlabel": {
           "align": "left"
          },
          "hovermode": "closest",
          "mapbox": {
           "style": "dark"
          },
          "paper_bgcolor": "rgb(17,17,17)",
          "plot_bgcolor": "rgb(17,17,17)",
          "polar": {
           "angularaxis": {
            "gridcolor": "#506784",
            "linecolor": "#506784",
            "ticks": ""
           },
           "bgcolor": "rgb(17,17,17)",
           "radialaxis": {
            "gridcolor": "#506784",
            "linecolor": "#506784",
            "ticks": ""
           }
          },
          "scene": {
           "xaxis": {
            "backgroundcolor": "rgb(17,17,17)",
            "gridcolor": "#506784",
            "gridwidth": 2,
            "linecolor": "#506784",
            "showbackground": true,
            "ticks": "",
            "zerolinecolor": "#C8D4E3"
           },
           "yaxis": {
            "backgroundcolor": "rgb(17,17,17)",
            "gridcolor": "#506784",
            "gridwidth": 2,
            "linecolor": "#506784",
            "showbackground": true,
            "ticks": "",
            "zerolinecolor": "#C8D4E3"
           },
           "zaxis": {
            "backgroundcolor": "rgb(17,17,17)",
            "gridcolor": "#506784",
            "gridwidth": 2,
            "linecolor": "#506784",
            "showbackground": true,
            "ticks": "",
            "zerolinecolor": "#C8D4E3"
           }
          },
          "shapedefaults": {
           "line": {
            "color": "#f2f5fa"
           }
          },
          "sliderdefaults": {
           "bgcolor": "#C8D4E3",
           "bordercolor": "rgb(17,17,17)",
           "borderwidth": 1,
           "tickwidth": 0
          },
          "ternary": {
           "aaxis": {
            "gridcolor": "#506784",
            "linecolor": "#506784",
            "ticks": ""
           },
           "baxis": {
            "gridcolor": "#506784",
            "linecolor": "#506784",
            "ticks": ""
           },
           "bgcolor": "rgb(17,17,17)",
           "caxis": {
            "gridcolor": "#506784",
            "linecolor": "#506784",
            "ticks": ""
           }
          },
          "title": {
           "x": 0.05
          },
          "updatemenudefaults": {
           "bgcolor": "#506784",
           "borderwidth": 0
          },
          "xaxis": {
           "automargin": true,
           "gridcolor": "#283442",
           "linecolor": "#506784",
           "ticks": "",
           "title": {
            "standoff": 15
           },
           "zerolinecolor": "#283442",
           "zerolinewidth": 2
          },
          "yaxis": {
           "automargin": true,
           "gridcolor": "#283442",
           "linecolor": "#506784",
           "ticks": "",
           "title": {
            "standoff": 15
           },
           "zerolinecolor": "#283442",
           "zerolinewidth": 2
          }
         }
        },
        "title": {
         "text": "Damage vs. Toughness Trade-off"
        },
        "width": 800,
        "xaxis": {
         "anchor": "y",
         "domain": [
          0,
          1
         ],
         "title": {
          "text": "Damage x Size"
         }
        },
        "yaxis": {
         "anchor": "x",
         "domain": [
          0,
          1
         ],
         "title": {
          "text": "Toughness x Size"
         }
        }
       }
      }
     },
     "metadata": {},
     "output_type": "display_data"
    }
   ],
   "source": [
    "import plotly.graph_objects as go\n",
    "\n",
    "df['t*s'] = df['Toughness'] * df['Size']\n",
    "df['d*s'] = df['Damage'] * df['Size']\n",
    "fig = px.scatter(\n",
    "    df, \n",
    "    x='d*s', \n",
    "    y='t*s', \n",
    "    labels={'d*s':\"Damage x Size\", 't*s': 'Toughness x Size'},\n",
    "    title='Damage vs. Toughness Trade-off',\n",
    "    hover_name='Regiment',\n",
    "    color='Type', \n",
    "    height=600, \n",
    "    width=800,\n",
    "    template='plotly_dark')\n",
    "\n",
    "fig.add_shape(\n",
    "    type='line',\n",
    "    xref='x',\n",
    "    yref='y',\n",
    "    x0=0,\n",
    "    y0=0,\n",
    "    x1=df['d*s'].max()*1.1,\n",
    "    y1=df['t*s'].max()*1.1,\n",
    "    opacity=0.5\n",
    ")\n",
    "\n",
    "fig.show()"
   ]
  },
  {
   "cell_type": "markdown",
   "metadata": {},
   "source": [
    "This paints a slightly more nuanced picture. Now it seems like there are two main contenders for \"best\" depending on what the player is prioritizing. This now shows Varangian Veterans as the best if the player prefers toughness, and Kataphraktoi if the player prefers damage, based on the rest of their army composition.\n",
    "\n",
    "#### On Pursuit and Screen\n",
    "\n",
    "Pursuit is how much extra damage can be done after winning a battle. This can be useful for what is called \"stack-wiping,\" which is when you kill or capture the entire enemy army, with no one able to escape. While this can be very useful it requires winning the battle first. Therefore, I will not be considering it in these analyses. Similarly, screen is only useful when you have lost a battle to protect from further loses. Our goal is to not lose any battles, so we will not be considering it in these analyses either.\n",
    "\n",
    "### Gold Considerations\n",
    "\n",
    "MaA cost gold to recruit, and to maintain. The cost to recruit is a one time cost, and only really matter in the very early game, since once recruited you will never have to pay that cost again. For this reason, we will not consider it in these analyses. Maintenance, however, is important for much longer. There are severe penalties for fighting battles while in debt, and a massive army of the most expensive troops can lead a player to financial ruin very quickly. In the late game maintenance is less of a concern since your economy should be strong enough to support any army, but for much of the game this is still an important consideration. Lets look at the same two graphs as before, but now weighted by maintenance costs."
   ]
  },
  {
   "cell_type": "code",
   "execution_count": 111,
   "metadata": {},
   "outputs": [
    {
     "data": {
      "text/html": [
       "<table border=\"1\" class=\"dataframe\">\n",
       "  <thead>\n",
       "    <tr style=\"text-align: right;\">\n",
       "      <th>Regiment</th>\n",
       "      <th>Type</th>\n",
       "      <th>Raised maintenance</th>\n",
       "      <th>d*t*s/gold</th>\n",
       "      <th>Era</th>\n",
       "    </tr>\n",
       "  </thead>\n",
       "  <tbody>\n",
       "    <tr>\n",
       "      <td>Mubarizun</td>\n",
       "      <td>heavy infantry</td>\n",
       "      <td>1.44</td>\n",
       "      <td>78125.000000</td>\n",
       "      <td>Tribal</td>\n",
       "    </tr>\n",
       "    <tr>\n",
       "      <td>Kataphraktoi</td>\n",
       "      <td>heavy cavalry</td>\n",
       "      <td>2.73</td>\n",
       "      <td>76923.076923</td>\n",
       "      <td>Tribal</td>\n",
       "    </tr>\n",
       "    <tr>\n",
       "      <td>Druzhina</td>\n",
       "      <td>heavy infantry</td>\n",
       "      <td>1.56</td>\n",
       "      <td>76923.076923</td>\n",
       "      <td>Tribal</td>\n",
       "    </tr>\n",
       "    <tr>\n",
       "      <td>Mountaineers</td>\n",
       "      <td>heavy infantry</td>\n",
       "      <td>1.44</td>\n",
       "      <td>72222.222222</td>\n",
       "      <td>Tribal</td>\n",
       "    </tr>\n",
       "    <tr>\n",
       "      <td>Ayrudzi</td>\n",
       "      <td>light cavalry</td>\n",
       "      <td>1.05</td>\n",
       "      <td>71428.571429</td>\n",
       "      <td>Tribal</td>\n",
       "    </tr>\n",
       "    <tr>\n",
       "      <td>Conrois</td>\n",
       "      <td>heavy cavalry</td>\n",
       "      <td>1.78</td>\n",
       "      <td>70224.719101</td>\n",
       "      <td>Tribal</td>\n",
       "    </tr>\n",
       "    <tr>\n",
       "      <td>Huscarls</td>\n",
       "      <td>heavy infantry</td>\n",
       "      <td>1.53</td>\n",
       "      <td>67973.856209</td>\n",
       "      <td>Tribal</td>\n",
       "    </tr>\n",
       "    <tr>\n",
       "      <td>Varangian Veterans</td>\n",
       "      <td>heavy infantry</td>\n",
       "      <td>2.00</td>\n",
       "      <td>67500.000000</td>\n",
       "      <td>Tribal</td>\n",
       "    </tr>\n",
       "    <tr>\n",
       "      <td>Horse Archers</td>\n",
       "      <td>horse archers</td>\n",
       "      <td>1.35</td>\n",
       "      <td>66666.666667</td>\n",
       "      <td>Tribal</td>\n",
       "    </tr>\n",
       "    <tr>\n",
       "      <td>Khandayat</td>\n",
       "      <td>heavy infantry</td>\n",
       "      <td>1.44</td>\n",
       "      <td>64166.666667</td>\n",
       "      <td>Tribal</td>\n",
       "    </tr>\n",
       "  </tbody>\n",
       "</table>"
      ],
      "text/plain": [
       "<IPython.core.display.HTML object>"
      ]
     },
     "metadata": {},
     "output_type": "display_data"
    }
   ],
   "source": [
    "df['d*t*s/gold'] = df['d*t*s'] / df['Raised maintenance']\n",
    "df.sort_values(by='d*t*s/gold', ascending=False, inplace=True)\n",
    "show_df(df.loc[:,['Regiment', 'Type', 'Raised maintenance','d*t*s/gold', 'Era']][:10])"
   ]
  },
  {
   "cell_type": "markdown",
   "metadata": {},
   "source": [
    "This changes up the top 10 quite a bit. With cost considerations heavy infantry MaAs are now preferable, with Mubarizun coming out on top. Let's look at the strip chart."
   ]
  },
  {
   "cell_type": "code",
   "execution_count": 112,
   "metadata": {},
   "outputs": [
    {
     "data": {
      "application/vnd.plotly.v1+json": {
       "config": {
        "plotlyServerURL": "https://plot.ly"
       },
       "data": [
        {
         "alignmentgroup": "True",
         "boxpoints": "all",
         "customdata": [
          [
           "heavy infantry",
           100,
           1.44
          ],
          [
           "heavy infantry",
           100,
           1.56
          ],
          [
           "heavy infantry",
           100,
           1.44
          ],
          [
           "heavy infantry",
           100,
           1.53
          ],
          [
           "heavy infantry",
           100,
           2
          ],
          [
           "heavy infantry",
           100,
           1.44
          ],
          [
           "heavy infantry",
           100,
           1.44
          ],
          [
           "heavy infantry",
           100,
           1.54
          ],
          [
           "heavy infantry",
           100,
           1.32
          ],
          [
           "heavy infantry",
           50,
           1.08
          ],
          [
           "heavy infantry",
           100,
           0.41
          ]
         ],
         "fillcolor": "rgba(255,255,255,0)",
         "hoveron": "points",
         "hovertemplate": "<b>%{hovertext}</b><br><br>Type=%{customdata[0]}<br>(Damage x Toughness x Size) / Maintenance Cost=%{y}<br>Size=%{customdata[1]}<br>Raised maintenance=%{customdata[2]}<extra></extra>",
         "hovertext": [
          "Mubarizun",
          "Druzhina",
          "Mountaineers",
          "Huscarls",
          "Varangian Veterans",
          "Khandayat",
          "Palace Guards",
          "Lenkas",
          "Zbrojnosh",
          "Ayyar",
          "Akritai"
         ],
         "legendgroup": "heavy infantry",
         "line": {
          "color": "rgba(255,255,255,0)"
         },
         "marker": {
          "color": "#636efa"
         },
         "name": "heavy infantry",
         "offsetgroup": "heavy infantry",
         "orientation": "v",
         "pointpos": 0,
         "showlegend": true,
         "type": "box",
         "x0": " ",
         "xaxis": "x",
         "y": {
          "bdata": "AAAAANAS80A7sRM7scfyQI7jOI7jofFAs10Is12Y8EAAAAAAwHrwQFZVVVXVVO9Aq6qqqqrs7kAAAAAAAEztQJNNNtlkJ+lAaC+hvQRo4UDVrkTtSqzgQA==",
          "dtype": "f8"
         },
         "y0": " ",
         "yaxis": "y"
        },
        {
         "alignmentgroup": "True",
         "boxpoints": "all",
         "customdata": [
          [
           "heavy cavalry",
           50,
           2.73
          ],
          [
           "heavy cavalry",
           50,
           1.78
          ],
          [
           "heavy cavalry",
           50,
           2.62
          ],
          [
           "heavy cavalry",
           50,
           2.73
          ]
         ],
         "fillcolor": "rgba(255,255,255,0)",
         "hoveron": "points",
         "hovertemplate": "<b>%{hovertext}</b><br><br>Type=%{customdata[0]}<br>(Damage x Toughness x Size) / Maintenance Cost=%{y}<br>Size=%{customdata[1]}<br>Raised maintenance=%{customdata[2]}<extra></extra>",
         "hovertext": [
          "Kataphraktoi",
          "Conrois",
          "Monaspa",
          "Tarkhans"
         ],
         "legendgroup": "heavy cavalry",
         "line": {
          "color": "rgba(255,255,255,0)"
         },
         "marker": {
          "color": "#EF553B"
         },
         "name": "heavy cavalry",
         "offsetgroup": "heavy cavalry",
         "orientation": "v",
         "pointpos": 0,
         "showlegend": true,
         "type": "box",
         "x0": " ",
         "xaxis": "x",
         "y": {
          "bdata": "O7ETO7HH8kAGLnCBCyXxQBNS8iwjwO5A7/Ee7/GC7UA=",
          "dtype": "f8"
         },
         "y0": " ",
         "yaxis": "y"
        },
        {
         "alignmentgroup": "True",
         "boxpoints": "all",
         "customdata": [
          [
           "light cavalry",
           50,
           1.05
          ],
          [
           "light cavalry",
           100,
           1.15
          ],
          [
           "light cavalry",
           100,
           1.15
          ],
          [
           "light cavalry",
           100,
           1.36
          ]
         ],
         "fillcolor": "rgba(255,255,255,0)",
         "hoveron": "points",
         "hovertemplate": "<b>%{hovertext}</b><br><br>Type=%{customdata[0]}<br>(Damage x Toughness x Size) / Maintenance Cost=%{y}<br>Size=%{customdata[1]}<br>Raised maintenance=%{customdata[2]}<extra></extra>",
         "hovertext": [
          "Ayrudzi",
          "Tawashi",
          "Mulathanūm",
          "Konni"
         ],
         "legendgroup": "light cavalry",
         "line": {
          "color": "rgba(255,255,255,0)"
         },
         "marker": {
          "color": "#00cc96"
         },
         "name": "light cavalry",
         "offsetgroup": "light cavalry",
         "orientation": "v",
         "pointpos": 0,
         "showlegend": true,
         "type": "box",
         "x0": " ",
         "xaxis": "x",
         "y": {
          "bdata": "JEmSJElw8UAXspCFLNjfQPWmN73pBdxA4eHh4WHt2kA=",
          "dtype": "f8"
         },
         "y0": " ",
         "yaxis": "y"
        },
        {
         "alignmentgroup": "True",
         "boxpoints": "all",
         "customdata": [
          [
           "horse archers",
           100,
           1.35
          ]
         ],
         "fillcolor": "rgba(255,255,255,0)",
         "hoveron": "points",
         "hovertemplate": "<b>%{hovertext}</b><br><br>Type=%{customdata[0]}<br>(Damage x Toughness x Size) / Maintenance Cost=%{y}<br>Size=%{customdata[1]}<br>Raised maintenance=%{customdata[2]}<extra></extra>",
         "hovertext": [
          "Horse Archers"
         ],
         "legendgroup": "horse archers",
         "line": {
          "color": "rgba(255,255,255,0)"
         },
         "marker": {
          "color": "#ab63fa"
         },
         "name": "horse archers",
         "offsetgroup": "horse archers",
         "orientation": "v",
         "pointpos": 0,
         "showlegend": true,
         "type": "box",
         "x0": " ",
         "xaxis": "x",
         "y": {
          "bdata": "qqqqqqpG8EA=",
          "dtype": "f8"
         },
         "y0": " ",
         "yaxis": "y"
        },
        {
         "alignmentgroup": "True",
         "boxpoints": "all",
         "customdata": [
          [
           "archers",
           100,
           0.66
          ],
          [
           "archers",
           100,
           0.66
          ],
          [
           "archers",
           100,
           0.66
          ],
          [
           "archers",
           100,
           0.66
          ],
          [
           "archers",
           50,
           0.45
          ],
          [
           "archers",
           100,
           0.72
          ]
         ],
         "fillcolor": "rgba(255,255,255,0)",
         "hoveron": "points",
         "hovertemplate": "<b>%{hovertext}</b><br><br>Type=%{customdata[0]}<br>(Damage x Toughness x Size) / Maintenance Cost=%{y}<br>Size=%{customdata[1]}<br>Raised maintenance=%{customdata[2]}<extra></extra>",
         "hovertext": [
          "Metsänvartija",
          "Nile Archers",
          "Vigmen",
          "Bush Hunters",
          "Ballistrai",
          "Longbowmen"
         ],
         "legendgroup": "archers",
         "line": {
          "color": "rgba(255,255,255,0)"
         },
         "marker": {
          "color": "#FFA15A"
         },
         "name": "archers",
         "offsetgroup": "archers",
         "orientation": "v",
         "pointpos": 0,
         "showlegend": true,
         "type": "box",
         "x0": " ",
         "xaxis": "x",
         "y": {
          "bdata": "LrrooosS70AuuuiiixLvQLrooosuoupAuuiiiy6i6kDjOI7jOOPkQDmO4ziOs9VA",
          "dtype": "f8"
         },
         "y0": " ",
         "yaxis": "y"
        },
        {
         "alignmentgroup": "True",
         "boxpoints": "all",
         "customdata": [
          [
           "pikemen",
           100,
           0.99
          ],
          [
           "pikemen",
           100,
           0.6
          ],
          [
           "pikemen",
           100,
           0.6
          ]
         ],
         "fillcolor": "rgba(255,255,255,0)",
         "hoveron": "points",
         "hovertemplate": "<b>%{hovertext}</b><br><br>Type=%{customdata[0]}<br>(Damage x Toughness x Size) / Maintenance Cost=%{y}<br>Size=%{customdata[1]}<br>Raised maintenance=%{customdata[2]}<extra></extra>",
         "hovertext": [
          "Skoutatoi",
          "Zupin Spearmen",
          "Bondi"
         ],
         "legendgroup": "pikemen",
         "line": {
          "color": "rgba(255,255,255,0)"
         },
         "marker": {
          "color": "#19d3f3"
         },
         "name": "pikemen",
         "offsetgroup": "pikemen",
         "orientation": "v",
         "pointpos": 0,
         "showlegend": true,
         "type": "box",
         "x0": " ",
         "xaxis": "x",
         "y": {
          "bdata": "5DiO4zg27EBWVVVVVdXkQAAAAAAAguRA",
          "dtype": "f8"
         },
         "y0": " ",
         "yaxis": "y"
        },
        {
         "alignmentgroup": "True",
         "boxpoints": "all",
         "customdata": [
          [
           "light infantry",
           100,
           0.45
          ],
          [
           "light infantry",
           100,
           0.54
          ],
          [
           "light infantry",
           100,
           0.45
          ],
          [
           "light infantry",
           100,
           0.81
          ]
         ],
         "fillcolor": "rgba(255,255,255,0)",
         "hoveron": "points",
         "hovertemplate": "<b>%{hovertext}</b><br><br>Type=%{customdata[0]}<br>(Damage x Toughness x Size) / Maintenance Cost=%{y}<br>Size=%{customdata[1]}<br>Raised maintenance=%{customdata[2]}<extra></extra>",
         "hovertext": [
          "Shomer",
          "Guinean Uplanders",
          "Horn Warriors",
          "Abudrar"
         ],
         "legendgroup": "light infantry",
         "line": {
          "color": "rgba(255,255,255,0)"
         },
         "marker": {
          "color": "#FF6692"
         },
         "name": "light infantry",
         "offsetgroup": "light infantry",
         "orientation": "v",
         "pointpos": 0,
         "showlegend": true,
         "type": "box",
         "x0": " ",
         "xaxis": "x",
         "y": {
          "bdata": "qqqqqqoK6kBVVVVVVcnmQFVVVVVV1eRAT7fmh0VK40A=",
          "dtype": "f8"
         },
         "y0": " ",
         "yaxis": "y"
        }
       ],
       "layout": {
        "boxmode": "group",
        "height": 600,
        "legend": {
         "title": {
          "text": "Type"
         },
         "tracegroupgap": 0
        },
        "template": {
         "data": {
          "bar": [
           {
            "error_x": {
             "color": "#f2f5fa"
            },
            "error_y": {
             "color": "#f2f5fa"
            },
            "marker": {
             "line": {
              "color": "rgb(17,17,17)",
              "width": 0.5
             },
             "pattern": {
              "fillmode": "overlay",
              "size": 10,
              "solidity": 0.2
             }
            },
            "type": "bar"
           }
          ],
          "barpolar": [
           {
            "marker": {
             "line": {
              "color": "rgb(17,17,17)",
              "width": 0.5
             },
             "pattern": {
              "fillmode": "overlay",
              "size": 10,
              "solidity": 0.2
             }
            },
            "type": "barpolar"
           }
          ],
          "carpet": [
           {
            "aaxis": {
             "endlinecolor": "#A2B1C6",
             "gridcolor": "#506784",
             "linecolor": "#506784",
             "minorgridcolor": "#506784",
             "startlinecolor": "#A2B1C6"
            },
            "baxis": {
             "endlinecolor": "#A2B1C6",
             "gridcolor": "#506784",
             "linecolor": "#506784",
             "minorgridcolor": "#506784",
             "startlinecolor": "#A2B1C6"
            },
            "type": "carpet"
           }
          ],
          "choropleth": [
           {
            "colorbar": {
             "outlinewidth": 0,
             "ticks": ""
            },
            "type": "choropleth"
           }
          ],
          "contour": [
           {
            "colorbar": {
             "outlinewidth": 0,
             "ticks": ""
            },
            "colorscale": [
             [
              0,
              "#0d0887"
             ],
             [
              0.1111111111111111,
              "#46039f"
             ],
             [
              0.2222222222222222,
              "#7201a8"
             ],
             [
              0.3333333333333333,
              "#9c179e"
             ],
             [
              0.4444444444444444,
              "#bd3786"
             ],
             [
              0.5555555555555556,
              "#d8576b"
             ],
             [
              0.6666666666666666,
              "#ed7953"
             ],
             [
              0.7777777777777778,
              "#fb9f3a"
             ],
             [
              0.8888888888888888,
              "#fdca26"
             ],
             [
              1,
              "#f0f921"
             ]
            ],
            "type": "contour"
           }
          ],
          "contourcarpet": [
           {
            "colorbar": {
             "outlinewidth": 0,
             "ticks": ""
            },
            "type": "contourcarpet"
           }
          ],
          "heatmap": [
           {
            "colorbar": {
             "outlinewidth": 0,
             "ticks": ""
            },
            "colorscale": [
             [
              0,
              "#0d0887"
             ],
             [
              0.1111111111111111,
              "#46039f"
             ],
             [
              0.2222222222222222,
              "#7201a8"
             ],
             [
              0.3333333333333333,
              "#9c179e"
             ],
             [
              0.4444444444444444,
              "#bd3786"
             ],
             [
              0.5555555555555556,
              "#d8576b"
             ],
             [
              0.6666666666666666,
              "#ed7953"
             ],
             [
              0.7777777777777778,
              "#fb9f3a"
             ],
             [
              0.8888888888888888,
              "#fdca26"
             ],
             [
              1,
              "#f0f921"
             ]
            ],
            "type": "heatmap"
           }
          ],
          "histogram": [
           {
            "marker": {
             "pattern": {
              "fillmode": "overlay",
              "size": 10,
              "solidity": 0.2
             }
            },
            "type": "histogram"
           }
          ],
          "histogram2d": [
           {
            "colorbar": {
             "outlinewidth": 0,
             "ticks": ""
            },
            "colorscale": [
             [
              0,
              "#0d0887"
             ],
             [
              0.1111111111111111,
              "#46039f"
             ],
             [
              0.2222222222222222,
              "#7201a8"
             ],
             [
              0.3333333333333333,
              "#9c179e"
             ],
             [
              0.4444444444444444,
              "#bd3786"
             ],
             [
              0.5555555555555556,
              "#d8576b"
             ],
             [
              0.6666666666666666,
              "#ed7953"
             ],
             [
              0.7777777777777778,
              "#fb9f3a"
             ],
             [
              0.8888888888888888,
              "#fdca26"
             ],
             [
              1,
              "#f0f921"
             ]
            ],
            "type": "histogram2d"
           }
          ],
          "histogram2dcontour": [
           {
            "colorbar": {
             "outlinewidth": 0,
             "ticks": ""
            },
            "colorscale": [
             [
              0,
              "#0d0887"
             ],
             [
              0.1111111111111111,
              "#46039f"
             ],
             [
              0.2222222222222222,
              "#7201a8"
             ],
             [
              0.3333333333333333,
              "#9c179e"
             ],
             [
              0.4444444444444444,
              "#bd3786"
             ],
             [
              0.5555555555555556,
              "#d8576b"
             ],
             [
              0.6666666666666666,
              "#ed7953"
             ],
             [
              0.7777777777777778,
              "#fb9f3a"
             ],
             [
              0.8888888888888888,
              "#fdca26"
             ],
             [
              1,
              "#f0f921"
             ]
            ],
            "type": "histogram2dcontour"
           }
          ],
          "mesh3d": [
           {
            "colorbar": {
             "outlinewidth": 0,
             "ticks": ""
            },
            "type": "mesh3d"
           }
          ],
          "parcoords": [
           {
            "line": {
             "colorbar": {
              "outlinewidth": 0,
              "ticks": ""
             }
            },
            "type": "parcoords"
           }
          ],
          "pie": [
           {
            "automargin": true,
            "type": "pie"
           }
          ],
          "scatter": [
           {
            "marker": {
             "line": {
              "color": "#283442"
             }
            },
            "type": "scatter"
           }
          ],
          "scatter3d": [
           {
            "line": {
             "colorbar": {
              "outlinewidth": 0,
              "ticks": ""
             }
            },
            "marker": {
             "colorbar": {
              "outlinewidth": 0,
              "ticks": ""
             }
            },
            "type": "scatter3d"
           }
          ],
          "scattercarpet": [
           {
            "marker": {
             "colorbar": {
              "outlinewidth": 0,
              "ticks": ""
             }
            },
            "type": "scattercarpet"
           }
          ],
          "scattergeo": [
           {
            "marker": {
             "colorbar": {
              "outlinewidth": 0,
              "ticks": ""
             }
            },
            "type": "scattergeo"
           }
          ],
          "scattergl": [
           {
            "marker": {
             "line": {
              "color": "#283442"
             }
            },
            "type": "scattergl"
           }
          ],
          "scattermap": [
           {
            "marker": {
             "colorbar": {
              "outlinewidth": 0,
              "ticks": ""
             }
            },
            "type": "scattermap"
           }
          ],
          "scattermapbox": [
           {
            "marker": {
             "colorbar": {
              "outlinewidth": 0,
              "ticks": ""
             }
            },
            "type": "scattermapbox"
           }
          ],
          "scatterpolar": [
           {
            "marker": {
             "colorbar": {
              "outlinewidth": 0,
              "ticks": ""
             }
            },
            "type": "scatterpolar"
           }
          ],
          "scatterpolargl": [
           {
            "marker": {
             "colorbar": {
              "outlinewidth": 0,
              "ticks": ""
             }
            },
            "type": "scatterpolargl"
           }
          ],
          "scatterternary": [
           {
            "marker": {
             "colorbar": {
              "outlinewidth": 0,
              "ticks": ""
             }
            },
            "type": "scatterternary"
           }
          ],
          "surface": [
           {
            "colorbar": {
             "outlinewidth": 0,
             "ticks": ""
            },
            "colorscale": [
             [
              0,
              "#0d0887"
             ],
             [
              0.1111111111111111,
              "#46039f"
             ],
             [
              0.2222222222222222,
              "#7201a8"
             ],
             [
              0.3333333333333333,
              "#9c179e"
             ],
             [
              0.4444444444444444,
              "#bd3786"
             ],
             [
              0.5555555555555556,
              "#d8576b"
             ],
             [
              0.6666666666666666,
              "#ed7953"
             ],
             [
              0.7777777777777778,
              "#fb9f3a"
             ],
             [
              0.8888888888888888,
              "#fdca26"
             ],
             [
              1,
              "#f0f921"
             ]
            ],
            "type": "surface"
           }
          ],
          "table": [
           {
            "cells": {
             "fill": {
              "color": "#506784"
             },
             "line": {
              "color": "rgb(17,17,17)"
             }
            },
            "header": {
             "fill": {
              "color": "#2a3f5f"
             },
             "line": {
              "color": "rgb(17,17,17)"
             }
            },
            "type": "table"
           }
          ]
         },
         "layout": {
          "annotationdefaults": {
           "arrowcolor": "#f2f5fa",
           "arrowhead": 0,
           "arrowwidth": 1
          },
          "autotypenumbers": "strict",
          "coloraxis": {
           "colorbar": {
            "outlinewidth": 0,
            "ticks": ""
           }
          },
          "colorscale": {
           "diverging": [
            [
             0,
             "#8e0152"
            ],
            [
             0.1,
             "#c51b7d"
            ],
            [
             0.2,
             "#de77ae"
            ],
            [
             0.3,
             "#f1b6da"
            ],
            [
             0.4,
             "#fde0ef"
            ],
            [
             0.5,
             "#f7f7f7"
            ],
            [
             0.6,
             "#e6f5d0"
            ],
            [
             0.7,
             "#b8e186"
            ],
            [
             0.8,
             "#7fbc41"
            ],
            [
             0.9,
             "#4d9221"
            ],
            [
             1,
             "#276419"
            ]
           ],
           "sequential": [
            [
             0,
             "#0d0887"
            ],
            [
             0.1111111111111111,
             "#46039f"
            ],
            [
             0.2222222222222222,
             "#7201a8"
            ],
            [
             0.3333333333333333,
             "#9c179e"
            ],
            [
             0.4444444444444444,
             "#bd3786"
            ],
            [
             0.5555555555555556,
             "#d8576b"
            ],
            [
             0.6666666666666666,
             "#ed7953"
            ],
            [
             0.7777777777777778,
             "#fb9f3a"
            ],
            [
             0.8888888888888888,
             "#fdca26"
            ],
            [
             1,
             "#f0f921"
            ]
           ],
           "sequentialminus": [
            [
             0,
             "#0d0887"
            ],
            [
             0.1111111111111111,
             "#46039f"
            ],
            [
             0.2222222222222222,
             "#7201a8"
            ],
            [
             0.3333333333333333,
             "#9c179e"
            ],
            [
             0.4444444444444444,
             "#bd3786"
            ],
            [
             0.5555555555555556,
             "#d8576b"
            ],
            [
             0.6666666666666666,
             "#ed7953"
            ],
            [
             0.7777777777777778,
             "#fb9f3a"
            ],
            [
             0.8888888888888888,
             "#fdca26"
            ],
            [
             1,
             "#f0f921"
            ]
           ]
          },
          "colorway": [
           "#636efa",
           "#EF553B",
           "#00cc96",
           "#ab63fa",
           "#FFA15A",
           "#19d3f3",
           "#FF6692",
           "#B6E880",
           "#FF97FF",
           "#FECB52"
          ],
          "font": {
           "color": "#f2f5fa"
          },
          "geo": {
           "bgcolor": "rgb(17,17,17)",
           "lakecolor": "rgb(17,17,17)",
           "landcolor": "rgb(17,17,17)",
           "showlakes": true,
           "showland": true,
           "subunitcolor": "#506784"
          },
          "hoverlabel": {
           "align": "left"
          },
          "hovermode": "closest",
          "mapbox": {
           "style": "dark"
          },
          "paper_bgcolor": "rgb(17,17,17)",
          "plot_bgcolor": "rgb(17,17,17)",
          "polar": {
           "angularaxis": {
            "gridcolor": "#506784",
            "linecolor": "#506784",
            "ticks": ""
           },
           "bgcolor": "rgb(17,17,17)",
           "radialaxis": {
            "gridcolor": "#506784",
            "linecolor": "#506784",
            "ticks": ""
           }
          },
          "scene": {
           "xaxis": {
            "backgroundcolor": "rgb(17,17,17)",
            "gridcolor": "#506784",
            "gridwidth": 2,
            "linecolor": "#506784",
            "showbackground": true,
            "ticks": "",
            "zerolinecolor": "#C8D4E3"
           },
           "yaxis": {
            "backgroundcolor": "rgb(17,17,17)",
            "gridcolor": "#506784",
            "gridwidth": 2,
            "linecolor": "#506784",
            "showbackground": true,
            "ticks": "",
            "zerolinecolor": "#C8D4E3"
           },
           "zaxis": {
            "backgroundcolor": "rgb(17,17,17)",
            "gridcolor": "#506784",
            "gridwidth": 2,
            "linecolor": "#506784",
            "showbackground": true,
            "ticks": "",
            "zerolinecolor": "#C8D4E3"
           }
          },
          "shapedefaults": {
           "line": {
            "color": "#f2f5fa"
           }
          },
          "sliderdefaults": {
           "bgcolor": "#C8D4E3",
           "bordercolor": "rgb(17,17,17)",
           "borderwidth": 1,
           "tickwidth": 0
          },
          "ternary": {
           "aaxis": {
            "gridcolor": "#506784",
            "linecolor": "#506784",
            "ticks": ""
           },
           "baxis": {
            "gridcolor": "#506784",
            "linecolor": "#506784",
            "ticks": ""
           },
           "bgcolor": "rgb(17,17,17)",
           "caxis": {
            "gridcolor": "#506784",
            "linecolor": "#506784",
            "ticks": ""
           }
          },
          "title": {
           "x": 0.05
          },
          "updatemenudefaults": {
           "bgcolor": "#506784",
           "borderwidth": 0
          },
          "xaxis": {
           "automargin": true,
           "gridcolor": "#283442",
           "linecolor": "#506784",
           "ticks": "",
           "title": {
            "standoff": 15
           },
           "zerolinecolor": "#283442",
           "zerolinewidth": 2
          },
          "yaxis": {
           "automargin": true,
           "gridcolor": "#283442",
           "linecolor": "#506784",
           "ticks": "",
           "title": {
            "standoff": 15
           },
           "zerolinecolor": "#283442",
           "zerolinewidth": 2
          }
         }
        },
        "title": {
         "text": "Most Effective MaA in CK3 Per Gold"
        },
        "width": 800,
        "xaxis": {
         "anchor": "y",
         "domain": [
          0,
          1
         ]
        },
        "yaxis": {
         "anchor": "x",
         "domain": [
          0,
          1
         ],
         "title": {
          "text": "(Damage x Toughness x Size) / Maintenance Cost"
         }
        }
       }
      }
     },
     "metadata": {},
     "output_type": "display_data"
    }
   ],
   "source": [
    "fig = px.strip(\n",
    "    df, \n",
    "    y=\"d*t*s/gold\", \n",
    "    hover_name='Regiment', \n",
    "    hover_data=['Type', 'Size', 'Raised maintenance'], \n",
    "    labels={'d*t*s/gold': '(Damage x Toughness x Size) / Maintenance Cost'},\n",
    "    title=\"Most Effective MaA in CK3 Per Gold\", \n",
    "    height=600, \n",
    "    width=800, \n",
    "    template='plotly_dark', \n",
    "    color='Type'\n",
    ")\n",
    "# fig.update_traces(marker_color=\"yellow\")\n",
    "fig.show()"
   ]
  },
  {
   "cell_type": "markdown",
   "metadata": {},
   "source": [
    "We can see that the ranking are much more linear. There are some interesting outliers. For one, almost all the light cavalry is terrible, except the Ayrudzi. This is likely a balancing effort by the developers of the game to make light cavalry more attractive, since Ayrudzi are a recent addition. Another outlier is longbowmen, which are the lowest of the bunch. The reason for this is, unlike other MaAs, they improve with each era, becoming very formidable by the end of the game. Unfortunately as mentioned before, late game has limited utility since the player will likely already be very strong, and can field almost any force.\n",
    "\n",
    "#### Damage vs Toughness per Maintenance\n",
    "\n",
    "Now finally lets look at Damage and Toughness individually, while considering Maintenance."
   ]
  },
  {
   "cell_type": "code",
   "execution_count": 113,
   "metadata": {},
   "outputs": [
    {
     "data": {
      "application/vnd.plotly.v1+json": {
       "config": {
        "plotlyServerURL": "https://plot.ly"
       },
       "data": [
        {
         "hovertemplate": "<b>%{hovertext}</b><br><br>Type=heavy infantry<br>Damage x Size / Maintenance Cost=%{x}<br>Toughness x Size / Maintenance Cost=%{y}<extra></extra>",
         "hovertext": [
          "Mubarizun",
          "Druzhina",
          "Mountaineers",
          "Huscarls",
          "Varangian Veterans",
          "Khandayat",
          "Palace Guards",
          "Lenkas",
          "Zbrojnosh",
          "Ayyar",
          "Akritai"
         ],
         "legendgroup": "heavy infantry",
         "marker": {
          "color": "#636efa",
          "symbol": "circle"
         },
         "mode": "markers",
         "name": "heavy infantry",
         "orientation": "v",
         "showlegend": true,
         "type": "scatter",
         "x": {
          "bdata": "AAAAAABqqECDNEiDNAikQDmO4ziOs6VAF8JsF8JspEAAAAAAAJShQFZVVVVVyaZAHcdxHMedpEAuuuiii06lQA8++OCDH6RAl9BeQntRmUDOx+B8DA6jQA==",
          "dtype": "f8"
         },
         "xaxis": "x",
         "y": {
          "bdata": "x3Ecx3Egm0DFTuzETgyeQOQ4juM4NpxAuGINuGKNmkAAAAAAAHCXQHIcx3Ec35dAq6qqqqoKmkAkSZIkSVKWQGyyySabrJdAQnsJ7SXUj0DuStSuRK2qQA==",
          "dtype": "f8"
         },
         "yaxis": "y"
        },
        {
         "hovertemplate": "<b>%{hovertext}</b><br><br>Type=heavy cavalry<br>Damage x Size / Maintenance Cost=%{x}<br>Toughness x Size / Maintenance Cost=%{y}<extra></extra>",
         "hovertext": [
          "Kataphraktoi",
          "Conrois",
          "Monaspa",
          "Tarkhans"
         ],
         "legendgroup": "heavy cavalry",
         "marker": {
          "color": "#EF553B",
          "symbol": "circle"
         },
         "mode": "markers",
         "name": "heavy cavalry",
         "orientation": "v",
         "showlegend": true,
         "type": "scatter",
         "x": {
          "bdata": "upqruZoroUD96Ec/+vGlQGDFCSl5ZqBAqpu6qZt6n0A=",
          "dtype": "f8"
         },
         "xaxis": "x",
         "y": {
          "bdata": "gzRIgzQIhED96Ec/+vGFQN0FfxUn5IFAupqruZorgUA=",
          "dtype": "f8"
         },
         "yaxis": "y"
        },
        {
         "hovertemplate": "<b>%{hovertext}</b><br><br>Type=light cavalry<br>Damage x Size / Maintenance Cost=%{x}<br>Toughness x Size / Maintenance Cost=%{y}<extra></extra>",
         "hovertext": [
          "Ayrudzi",
          "Tawashi",
          "Mulathanūm",
          "Konni"
         ],
         "legendgroup": "light cavalry",
         "marker": {
          "color": "#00cc96",
          "symbol": "circle"
         },
         "mode": "markers",
         "name": "light cavalry",
         "orientation": "v",
         "showlegend": true,
         "type": "scatter",
         "x": {
          "bdata": "nud5nueZokDqTW960/ugQBeykIUs5J1A8PDw8PC4nEA=",
          "dtype": "f8"
         },
         "xaxis": "x",
         "y": {
          "bdata": "JEmSJElSlkCzkIUsZGGUQLOQhSxkYZRAw8PDw8M7kUA=",
          "dtype": "f8"
         },
         "yaxis": "y"
        },
        {
         "hovertemplate": "<b>%{hovertext}</b><br><br>Type=horse archers<br>Damage x Size / Maintenance Cost=%{x}<br>Toughness x Size / Maintenance Cost=%{y}<extra></extra>",
         "hovertext": [
          "Horse Archers"
         ],
         "legendgroup": "horse archers",
         "marker": {
          "color": "#ab63fa",
          "symbol": "circle"
         },
         "mode": "markers",
         "name": "horse archers",
         "orientation": "v",
         "showlegend": true,
         "type": "scatter",
         "x": {
          "bdata": "qqqqqqoKqkA=",
          "dtype": "f8"
         },
         "xaxis": "x",
         "y": {
          "bdata": "XkJ7Ce0ll0A=",
          "dtype": "f8"
         },
         "yaxis": "y"
        },
        {
         "hovertemplate": "<b>%{hovertext}</b><br><br>Type=archers<br>Damage x Size / Maintenance Cost=%{x}<br>Toughness x Size / Maintenance Cost=%{y}<extra></extra>",
         "hovertext": [
          "Metsänvartija",
          "Nile Archers",
          "Vigmen",
          "Bush Hunters",
          "Ballistrai",
          "Longbowmen"
         ],
         "legendgroup": "archers",
         "marker": {
          "color": "#FFA15A",
          "symbol": "circle"
         },
         "mode": "markers",
         "name": "archers",
         "orientation": "v",
         "showlegend": true,
         "type": "scatter",
         "x": {
          "bdata": "0UUXXXTBsUDRRRdddMGxQC666KKLTqVA0UUXXXTBsUAcx3Ecx2GuQDmO4ziOs6VA",
          "dtype": "f8"
         },
         "xaxis": "x",
         "y": {
          "bdata": "sskmm2ySoECyySabbJKgQGyyySabrKdA6KKLLrponECO4ziO4xiTQMdxHMdxXJFA",
          "dtype": "f8"
         },
         "yaxis": "y"
        },
        {
         "hovertemplate": "<b>%{hovertext}</b><br><br>Type=pikemen<br>Damage x Size / Maintenance Cost=%{x}<br>Toughness x Size / Maintenance Cost=%{y}<extra></extra>",
         "hovertext": [
          "Skoutatoi",
          "Zupin Spearmen",
          "Bondi"
         ],
         "legendgroup": "pikemen",
         "marker": {
          "color": "#19d3f3",
          "symbol": "circle"
         },
         "mode": "markers",
         "name": "pikemen",
         "orientation": "v",
         "showlegend": true,
         "type": "scatter",
         "x": {
          "bdata": "x3Ecx3FcoUBWVVVVVdWkQKuqqqqqOqJA",
          "dtype": "f8"
         },
         "xaxis": "x",
         "y": {
          "bdata": "GhLzdoaEpEBWVVVVVdWkQAAAAAAAcKdA",
          "dtype": "f8"
         },
         "yaxis": "y"
        },
        {
         "hovertemplate": "<b>%{hovertext}</b><br><br>Type=light infantry<br>Damage x Size / Maintenance Cost=%{x}<br>Toughness x Size / Maintenance Cost=%{y}<extra></extra>",
         "hovertext": [
          "Shomer",
          "Guinean Uplanders",
          "Horn Warriors",
          "Abudrar"
         ],
         "legendgroup": "light infantry",
         "marker": {
          "color": "#FF6692",
          "symbol": "circle"
         },
         "mode": "markers",
         "name": "light infantry",
         "orientation": "v",
         "showlegend": true,
         "type": "scatter",
         "x": {
          "bdata": "x3Ecx3FcoUCqqqqqqgqqQFVVVVVV1aRAT7fmh0VKo0A=",
          "dtype": "f8"
         },
         "xaxis": "x",
         "y": {
          "bdata": "VVVVVVXVtEAT2ktoL0GkQHIcx3Ecx6tAflikDDzdnkA=",
          "dtype": "f8"
         },
         "yaxis": "y"
        }
       ],
       "layout": {
        "height": 600,
        "legend": {
         "title": {
          "text": "Type"
         },
         "tracegroupgap": 0
        },
        "shapes": [
         {
          "opacity": 0.5,
          "type": "line",
          "x0": 0,
          "x1": 5000,
          "xref": "x",
          "y0": 0,
          "y1": 5866.666666666667,
          "yref": "y"
         }
        ],
        "template": {
         "data": {
          "bar": [
           {
            "error_x": {
             "color": "#f2f5fa"
            },
            "error_y": {
             "color": "#f2f5fa"
            },
            "marker": {
             "line": {
              "color": "rgb(17,17,17)",
              "width": 0.5
             },
             "pattern": {
              "fillmode": "overlay",
              "size": 10,
              "solidity": 0.2
             }
            },
            "type": "bar"
           }
          ],
          "barpolar": [
           {
            "marker": {
             "line": {
              "color": "rgb(17,17,17)",
              "width": 0.5
             },
             "pattern": {
              "fillmode": "overlay",
              "size": 10,
              "solidity": 0.2
             }
            },
            "type": "barpolar"
           }
          ],
          "carpet": [
           {
            "aaxis": {
             "endlinecolor": "#A2B1C6",
             "gridcolor": "#506784",
             "linecolor": "#506784",
             "minorgridcolor": "#506784",
             "startlinecolor": "#A2B1C6"
            },
            "baxis": {
             "endlinecolor": "#A2B1C6",
             "gridcolor": "#506784",
             "linecolor": "#506784",
             "minorgridcolor": "#506784",
             "startlinecolor": "#A2B1C6"
            },
            "type": "carpet"
           }
          ],
          "choropleth": [
           {
            "colorbar": {
             "outlinewidth": 0,
             "ticks": ""
            },
            "type": "choropleth"
           }
          ],
          "contour": [
           {
            "colorbar": {
             "outlinewidth": 0,
             "ticks": ""
            },
            "colorscale": [
             [
              0,
              "#0d0887"
             ],
             [
              0.1111111111111111,
              "#46039f"
             ],
             [
              0.2222222222222222,
              "#7201a8"
             ],
             [
              0.3333333333333333,
              "#9c179e"
             ],
             [
              0.4444444444444444,
              "#bd3786"
             ],
             [
              0.5555555555555556,
              "#d8576b"
             ],
             [
              0.6666666666666666,
              "#ed7953"
             ],
             [
              0.7777777777777778,
              "#fb9f3a"
             ],
             [
              0.8888888888888888,
              "#fdca26"
             ],
             [
              1,
              "#f0f921"
             ]
            ],
            "type": "contour"
           }
          ],
          "contourcarpet": [
           {
            "colorbar": {
             "outlinewidth": 0,
             "ticks": ""
            },
            "type": "contourcarpet"
           }
          ],
          "heatmap": [
           {
            "colorbar": {
             "outlinewidth": 0,
             "ticks": ""
            },
            "colorscale": [
             [
              0,
              "#0d0887"
             ],
             [
              0.1111111111111111,
              "#46039f"
             ],
             [
              0.2222222222222222,
              "#7201a8"
             ],
             [
              0.3333333333333333,
              "#9c179e"
             ],
             [
              0.4444444444444444,
              "#bd3786"
             ],
             [
              0.5555555555555556,
              "#d8576b"
             ],
             [
              0.6666666666666666,
              "#ed7953"
             ],
             [
              0.7777777777777778,
              "#fb9f3a"
             ],
             [
              0.8888888888888888,
              "#fdca26"
             ],
             [
              1,
              "#f0f921"
             ]
            ],
            "type": "heatmap"
           }
          ],
          "histogram": [
           {
            "marker": {
             "pattern": {
              "fillmode": "overlay",
              "size": 10,
              "solidity": 0.2
             }
            },
            "type": "histogram"
           }
          ],
          "histogram2d": [
           {
            "colorbar": {
             "outlinewidth": 0,
             "ticks": ""
            },
            "colorscale": [
             [
              0,
              "#0d0887"
             ],
             [
              0.1111111111111111,
              "#46039f"
             ],
             [
              0.2222222222222222,
              "#7201a8"
             ],
             [
              0.3333333333333333,
              "#9c179e"
             ],
             [
              0.4444444444444444,
              "#bd3786"
             ],
             [
              0.5555555555555556,
              "#d8576b"
             ],
             [
              0.6666666666666666,
              "#ed7953"
             ],
             [
              0.7777777777777778,
              "#fb9f3a"
             ],
             [
              0.8888888888888888,
              "#fdca26"
             ],
             [
              1,
              "#f0f921"
             ]
            ],
            "type": "histogram2d"
           }
          ],
          "histogram2dcontour": [
           {
            "colorbar": {
             "outlinewidth": 0,
             "ticks": ""
            },
            "colorscale": [
             [
              0,
              "#0d0887"
             ],
             [
              0.1111111111111111,
              "#46039f"
             ],
             [
              0.2222222222222222,
              "#7201a8"
             ],
             [
              0.3333333333333333,
              "#9c179e"
             ],
             [
              0.4444444444444444,
              "#bd3786"
             ],
             [
              0.5555555555555556,
              "#d8576b"
             ],
             [
              0.6666666666666666,
              "#ed7953"
             ],
             [
              0.7777777777777778,
              "#fb9f3a"
             ],
             [
              0.8888888888888888,
              "#fdca26"
             ],
             [
              1,
              "#f0f921"
             ]
            ],
            "type": "histogram2dcontour"
           }
          ],
          "mesh3d": [
           {
            "colorbar": {
             "outlinewidth": 0,
             "ticks": ""
            },
            "type": "mesh3d"
           }
          ],
          "parcoords": [
           {
            "line": {
             "colorbar": {
              "outlinewidth": 0,
              "ticks": ""
             }
            },
            "type": "parcoords"
           }
          ],
          "pie": [
           {
            "automargin": true,
            "type": "pie"
           }
          ],
          "scatter": [
           {
            "marker": {
             "line": {
              "color": "#283442"
             }
            },
            "type": "scatter"
           }
          ],
          "scatter3d": [
           {
            "line": {
             "colorbar": {
              "outlinewidth": 0,
              "ticks": ""
             }
            },
            "marker": {
             "colorbar": {
              "outlinewidth": 0,
              "ticks": ""
             }
            },
            "type": "scatter3d"
           }
          ],
          "scattercarpet": [
           {
            "marker": {
             "colorbar": {
              "outlinewidth": 0,
              "ticks": ""
             }
            },
            "type": "scattercarpet"
           }
          ],
          "scattergeo": [
           {
            "marker": {
             "colorbar": {
              "outlinewidth": 0,
              "ticks": ""
             }
            },
            "type": "scattergeo"
           }
          ],
          "scattergl": [
           {
            "marker": {
             "line": {
              "color": "#283442"
             }
            },
            "type": "scattergl"
           }
          ],
          "scattermap": [
           {
            "marker": {
             "colorbar": {
              "outlinewidth": 0,
              "ticks": ""
             }
            },
            "type": "scattermap"
           }
          ],
          "scattermapbox": [
           {
            "marker": {
             "colorbar": {
              "outlinewidth": 0,
              "ticks": ""
             }
            },
            "type": "scattermapbox"
           }
          ],
          "scatterpolar": [
           {
            "marker": {
             "colorbar": {
              "outlinewidth": 0,
              "ticks": ""
             }
            },
            "type": "scatterpolar"
           }
          ],
          "scatterpolargl": [
           {
            "marker": {
             "colorbar": {
              "outlinewidth": 0,
              "ticks": ""
             }
            },
            "type": "scatterpolargl"
           }
          ],
          "scatterternary": [
           {
            "marker": {
             "colorbar": {
              "outlinewidth": 0,
              "ticks": ""
             }
            },
            "type": "scatterternary"
           }
          ],
          "surface": [
           {
            "colorbar": {
             "outlinewidth": 0,
             "ticks": ""
            },
            "colorscale": [
             [
              0,
              "#0d0887"
             ],
             [
              0.1111111111111111,
              "#46039f"
             ],
             [
              0.2222222222222222,
              "#7201a8"
             ],
             [
              0.3333333333333333,
              "#9c179e"
             ],
             [
              0.4444444444444444,
              "#bd3786"
             ],
             [
              0.5555555555555556,
              "#d8576b"
             ],
             [
              0.6666666666666666,
              "#ed7953"
             ],
             [
              0.7777777777777778,
              "#fb9f3a"
             ],
             [
              0.8888888888888888,
              "#fdca26"
             ],
             [
              1,
              "#f0f921"
             ]
            ],
            "type": "surface"
           }
          ],
          "table": [
           {
            "cells": {
             "fill": {
              "color": "#506784"
             },
             "line": {
              "color": "rgb(17,17,17)"
             }
            },
            "header": {
             "fill": {
              "color": "#2a3f5f"
             },
             "line": {
              "color": "rgb(17,17,17)"
             }
            },
            "type": "table"
           }
          ]
         },
         "layout": {
          "annotationdefaults": {
           "arrowcolor": "#f2f5fa",
           "arrowhead": 0,
           "arrowwidth": 1
          },
          "autotypenumbers": "strict",
          "coloraxis": {
           "colorbar": {
            "outlinewidth": 0,
            "ticks": ""
           }
          },
          "colorscale": {
           "diverging": [
            [
             0,
             "#8e0152"
            ],
            [
             0.1,
             "#c51b7d"
            ],
            [
             0.2,
             "#de77ae"
            ],
            [
             0.3,
             "#f1b6da"
            ],
            [
             0.4,
             "#fde0ef"
            ],
            [
             0.5,
             "#f7f7f7"
            ],
            [
             0.6,
             "#e6f5d0"
            ],
            [
             0.7,
             "#b8e186"
            ],
            [
             0.8,
             "#7fbc41"
            ],
            [
             0.9,
             "#4d9221"
            ],
            [
             1,
             "#276419"
            ]
           ],
           "sequential": [
            [
             0,
             "#0d0887"
            ],
            [
             0.1111111111111111,
             "#46039f"
            ],
            [
             0.2222222222222222,
             "#7201a8"
            ],
            [
             0.3333333333333333,
             "#9c179e"
            ],
            [
             0.4444444444444444,
             "#bd3786"
            ],
            [
             0.5555555555555556,
             "#d8576b"
            ],
            [
             0.6666666666666666,
             "#ed7953"
            ],
            [
             0.7777777777777778,
             "#fb9f3a"
            ],
            [
             0.8888888888888888,
             "#fdca26"
            ],
            [
             1,
             "#f0f921"
            ]
           ],
           "sequentialminus": [
            [
             0,
             "#0d0887"
            ],
            [
             0.1111111111111111,
             "#46039f"
            ],
            [
             0.2222222222222222,
             "#7201a8"
            ],
            [
             0.3333333333333333,
             "#9c179e"
            ],
            [
             0.4444444444444444,
             "#bd3786"
            ],
            [
             0.5555555555555556,
             "#d8576b"
            ],
            [
             0.6666666666666666,
             "#ed7953"
            ],
            [
             0.7777777777777778,
             "#fb9f3a"
            ],
            [
             0.8888888888888888,
             "#fdca26"
            ],
            [
             1,
             "#f0f921"
            ]
           ]
          },
          "colorway": [
           "#636efa",
           "#EF553B",
           "#00cc96",
           "#ab63fa",
           "#FFA15A",
           "#19d3f3",
           "#FF6692",
           "#B6E880",
           "#FF97FF",
           "#FECB52"
          ],
          "font": {
           "color": "#f2f5fa"
          },
          "geo": {
           "bgcolor": "rgb(17,17,17)",
           "lakecolor": "rgb(17,17,17)",
           "landcolor": "rgb(17,17,17)",
           "showlakes": true,
           "showland": true,
           "subunitcolor": "#506784"
          },
          "hoverlabel": {
           "align": "left"
          },
          "hovermode": "closest",
          "mapbox": {
           "style": "dark"
          },
          "paper_bgcolor": "rgb(17,17,17)",
          "plot_bgcolor": "rgb(17,17,17)",
          "polar": {
           "angularaxis": {
            "gridcolor": "#506784",
            "linecolor": "#506784",
            "ticks": ""
           },
           "bgcolor": "rgb(17,17,17)",
           "radialaxis": {
            "gridcolor": "#506784",
            "linecolor": "#506784",
            "ticks": ""
           }
          },
          "scene": {
           "xaxis": {
            "backgroundcolor": "rgb(17,17,17)",
            "gridcolor": "#506784",
            "gridwidth": 2,
            "linecolor": "#506784",
            "showbackground": true,
            "ticks": "",
            "zerolinecolor": "#C8D4E3"
           },
           "yaxis": {
            "backgroundcolor": "rgb(17,17,17)",
            "gridcolor": "#506784",
            "gridwidth": 2,
            "linecolor": "#506784",
            "showbackground": true,
            "ticks": "",
            "zerolinecolor": "#C8D4E3"
           },
           "zaxis": {
            "backgroundcolor": "rgb(17,17,17)",
            "gridcolor": "#506784",
            "gridwidth": 2,
            "linecolor": "#506784",
            "showbackground": true,
            "ticks": "",
            "zerolinecolor": "#C8D4E3"
           }
          },
          "shapedefaults": {
           "line": {
            "color": "#f2f5fa"
           }
          },
          "sliderdefaults": {
           "bgcolor": "#C8D4E3",
           "bordercolor": "rgb(17,17,17)",
           "borderwidth": 1,
           "tickwidth": 0
          },
          "ternary": {
           "aaxis": {
            "gridcolor": "#506784",
            "linecolor": "#506784",
            "ticks": ""
           },
           "baxis": {
            "gridcolor": "#506784",
            "linecolor": "#506784",
            "ticks": ""
           },
           "bgcolor": "rgb(17,17,17)",
           "caxis": {
            "gridcolor": "#506784",
            "linecolor": "#506784",
            "ticks": ""
           }
          },
          "title": {
           "x": 0.05
          },
          "updatemenudefaults": {
           "bgcolor": "#506784",
           "borderwidth": 0
          },
          "xaxis": {
           "automargin": true,
           "gridcolor": "#283442",
           "linecolor": "#506784",
           "ticks": "",
           "title": {
            "standoff": 15
           },
           "zerolinecolor": "#283442",
           "zerolinewidth": 2
          },
          "yaxis": {
           "automargin": true,
           "gridcolor": "#283442",
           "linecolor": "#506784",
           "ticks": "",
           "title": {
            "standoff": 15
           },
           "zerolinecolor": "#283442",
           "zerolinewidth": 2
          }
         }
        },
        "title": {
         "text": "Damage vs. Toughness Trade-off per Gold"
        },
        "width": 800,
        "xaxis": {
         "anchor": "y",
         "domain": [
          0,
          1
         ],
         "title": {
          "text": "Damage x Size / Maintenance Cost"
         }
        },
        "yaxis": {
         "anchor": "x",
         "domain": [
          0,
          1
         ],
         "title": {
          "text": "Toughness x Size / Maintenance Cost"
         }
        }
       }
      }
     },
     "metadata": {},
     "output_type": "display_data"
    }
   ],
   "source": [
    "df['t*s/gold'] = df['t*s'] / df['Raised maintenance']\n",
    "df['d*s/gold'] = df['d*s'] / df['Raised maintenance']\n",
    "fig = px.scatter(\n",
    "    df, \n",
    "    x='d*s/gold', \n",
    "    y='t*s/gold', \n",
    "    labels={'d*s/gold':\"Damage x Size / Maintenance Cost\", 't*s/gold': 'Toughness x Size / Maintenance Cost'},\n",
    "    title='Damage vs. Toughness Trade-off per Gold',\n",
    "    hover_name='Regiment',\n",
    "    color='Type', \n",
    "    height=600, \n",
    "    width=800,\n",
    "    template='plotly_dark')\n",
    "\n",
    "fig.add_shape(\n",
    "    type='line',\n",
    "    xref='x',\n",
    "    yref='y',\n",
    "    x0=0,\n",
    "    y0=0,\n",
    "    x1=df['d*s/gold'].max()*1.1,\n",
    "    y1=df['t*s/gold'].max()*1.1,\n",
    "    opacity=0.5\n",
    ")\n",
    "\n",
    "fig.show()"
   ]
  },
  {
   "cell_type": "markdown",
   "metadata": {},
   "source": [
    "This paints an interesting picture. Our usual suspects (Heavy Cavalry and Heavy Infantry) aren't found on either extreme. Instead, we have two archers on the far right (Damage heavy per maintenance) and a single light infantry on the top (Toughness heavy per maintenance). None of the specialist appear in the top 10 damage x toughness charts, but may prove valuable if the player:\n",
    "1. Has very little income\n",
    "2. Has a ton of levies (High damage preference) or Very strong Knights (High toughness preference)\n",
    "\n",
    "However, situation 1 and situation 2 very rarely happen together, since if you have a lot of levies or a lot of strong knights, you likely will have a lot of income too. \n",
    "\n",
    "## Conclusion\n",
    "\n",
    "So, what does all of this mean? Essentially, it can be boiled down to these questions. \n",
    "\n",
    "1. Do you have a lot of extra income? If so max out on Kataphraktoi. \n",
    "2. Do you have a good amount of extra income, but can't support a lot of Kataphraktoi? If so max out on Mubarizun.\n",
    "3. Are you struggling with gold and can't support max stacks of Mubarizun or other comparable Heavy Infantry? If so Ayrzudi have the lowest maintenance in the Damage x Toughness / Gold top 10.\n",
    "4. Are you struggling with gold but want a damage or toughness focused composition? Max out Nile archers for damage, or Shomer for toughness.\n",
    "\n",
    "## Further work\n",
    "\n",
    "I plan to come back to this and compute the optimal MaA for adventurers (who use provisions for maintenance, not gold), as well as to add a head-to-head simulation to better capture the effects of terrain width. Taking terrain width into account will boost up heavy cavalry more, and perhaps make them the best choice given a budget as well. Additionally, it would be interesting to do a pairwise 1v1 tournament to see who has the most wins and loses when considering unit type counters."
   ]
  }
 ],
 "metadata": {
  "kernelspec": {
   "display_name": "notebook",
   "language": "python",
   "name": "python3"
  },
  "language_info": {
   "codemirror_mode": {
    "name": "ipython",
    "version": 3
   },
   "file_extension": ".py",
   "mimetype": "text/x-python",
   "name": "python",
   "nbconvert_exporter": "python",
   "pygments_lexer": "ipython3",
   "version": "3.11.11"
  }
 },
 "nbformat": 4,
 "nbformat_minor": 2
}
